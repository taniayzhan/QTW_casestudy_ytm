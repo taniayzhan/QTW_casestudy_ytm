{
 "cells": [
  {
   "cell_type": "markdown",
   "metadata": {},
   "source": [
    "## Data Reading"
   ]
  },
  {
   "cell_type": "code",
   "execution_count": 3,
   "metadata": {},
   "outputs": [],
   "source": [
    "# first stab at creating a function to parse lines.  Note that this causes warnings a few cells down\n",
    "processLine =\n",
    "function(x)\n",
    "{\n",
    "  tokens = strsplit(x, \"[;=,]\")[[1]]\n",
    "  tmp = matrix(tokens[ - (1:10) ], ncol = 4, byrow = TRUE)\n",
    "  cbind(matrix(tokens[c(2, 4, 6:8, 10)], nrow = nrow(tmp),\n",
    "               ncol = 6, byrow = TRUE), tmp)\n",
    "}"
   ]
  },
  {
   "cell_type": "code",
   "execution_count": 1,
   "metadata": {},
   "outputs": [],
   "source": [
    "# re do our data read combining all the anlysis we did here there are 7 SEVEN macids\n",
    "readData = \n",
    "  function(filename = 'offline.final.trace.txt', \n",
    "           subMacs = c(\"00:0f:a3:39:e1:c0\", \"00:0f:a3:39:dd:cd\", \"00:14:bf:b1:97:8a\",\n",
    "                       \"00:14:bf:3b:c7:c6\", \"00:14:bf:b1:97:90\", \"00:14:bf:b1:97:8d\",\n",
    "                       \"00:14:bf:b1:97:81\"))\n",
    "  {\n",
    "    txt = readLines(filename)\n",
    "    lines = txt[ substr(txt, 1, 1) != \"#\" ]\n",
    "    tmp = lapply(lines, processLine)\n",
    "    offline = as.data.frame(do.call(\"rbind\", tmp), \n",
    "                            stringsAsFactors= FALSE) \n",
    "    \n",
    "    names(offline) = c(\"time\", \"scanMac\", \n",
    "                       \"posX\", \"posY\", \"posZ\", \"orientation\", \n",
    "                       \"mac\", \"signal\", \"channel\", \"type\")\n",
    "    \n",
    "     # keep only signals from access points\n",
    "    offline = offline[ offline$type == \"3\", ]\n",
    "    \n",
    "    # drop scanMac, posZ, channel, and type - no info in them\n",
    "    dropVars = c(\"scanMac\", \"posZ\", \"channel\", \"type\")\n",
    "    offline = offline[ , !( names(offline) %in% dropVars ) ]\n",
    "    \n",
    "    # drop more unwanted access points\n",
    "    offline = offline[ offline$mac %in% subMacs, ]\n",
    "    \n",
    "    # convert numeric values\n",
    "    numVars = c(\"time\", \"posX\", \"posY\", \"orientation\", \"signal\")\n",
    "    offline[ numVars ] = lapply(offline[ numVars ], as.numeric)\n",
    "\n",
    "    # convert time to POSIX\n",
    "    offline$rawTime = offline$time\n",
    "    offline$time = offline$time/1000\n",
    "    class(offline$time) = c(\"POSIXt\", \"POSIXct\")\n",
    "    \n",
    "    # round orientations to nearest 45\n",
    "    offline$angle = roundOrientation(offline$orientation)\n",
    "      \n",
    "    return(offline)\n",
    "  }\n"
   ]
  },
  {
   "cell_type": "code",
   "execution_count": 5,
   "metadata": {},
   "outputs": [],
   "source": [
    "# create a function that will round off to the nearest major angle\n",
    "roundOrientation = function(angles) {\n",
    "  refs = seq(0, by = 45, length  = 9)\n",
    "  q = sapply(angles, function(o) which.min(abs(o - refs)))\n",
    "  c(refs[1:8], 0)[q]\n",
    "}\n",
    "\n",
    "# we built it, now apply it\n",
    "#offline$angle = roundOrientation(offline$orientation)\n"
   ]
  },
  {
   "cell_type": "code",
   "execution_count": 6,
   "metadata": {},
   "outputs": [
    {
     "name": "stderr",
     "output_type": "stream",
     "text": [
      "Warning message in matrix(tokens[c(2, 4, 6:8, 10)], nrow = nrow(tmp), ncol = 6, :\n",
      "\"data length exceeds size of matrix\"\n",
      "Warning message in matrix(tokens[c(2, 4, 6:8, 10)], nrow = nrow(tmp), ncol = 6, :\n",
      "\"data length exceeds size of matrix\"\n",
      "Warning message in matrix(tokens[c(2, 4, 6:8, 10)], nrow = nrow(tmp), ncol = 6, :\n",
      "\"data length exceeds size of matrix\"\n",
      "Warning message in matrix(tokens[c(2, 4, 6:8, 10)], nrow = nrow(tmp), ncol = 6, :\n",
      "\"data length exceeds size of matrix\"\n",
      "Warning message in matrix(tokens[c(2, 4, 6:8, 10)], nrow = nrow(tmp), ncol = 6, :\n",
      "\"data length exceeds size of matrix\"\n",
      "Warning message in matrix(tokens[c(2, 4, 6:8, 10)], nrow = nrow(tmp), ncol = 6, :\n",
      "\"data length exceeds size of matrix\"\n"
     ]
    }
   ],
   "source": [
    "# implement our function\n",
    "offline = readData()"
   ]
  },
  {
   "cell_type": "code",
   "execution_count": 7,
   "metadata": {},
   "outputs": [
    {
     "data": {
      "text/html": [
       "<ol class=list-inline>\n",
       "\t<li>914951</li>\n",
       "\t<li>8</li>\n",
       "</ol>\n"
      ],
      "text/latex": [
       "\\begin{enumerate*}\n",
       "\\item 914951\n",
       "\\item 8\n",
       "\\end{enumerate*}\n"
      ],
      "text/markdown": [
       "1. 914951\n",
       "2. 8\n",
       "\n",
       "\n"
      ],
      "text/plain": [
       "[1] 914951      8"
      ]
     },
     "metadata": {},
     "output_type": "display_data"
    }
   ],
   "source": [
    "# apply the variable names\n",
    "#offline[ numVars ] =  lapply(offline[ numVars ], as.numeric)\n",
    "\n",
    "#offline = offline[ offline$type == \"3\", ]\n",
    "#offline = offline[ , \"type\" != names(offline) ]\n",
    "dim(offline)"
   ]
  },
  {
   "cell_type": "code",
   "execution_count": 15,
   "metadata": {},
   "outputs": [
    {
     "data": {
      "text/html": [
       "<table>\n",
       "<caption>A data.frame: 6 × 8</caption>\n",
       "<thead>\n",
       "\t<tr><th></th><th scope=col>time</th><th scope=col>posX</th><th scope=col>posY</th><th scope=col>orientation</th><th scope=col>mac</th><th scope=col>signal</th><th scope=col>rawTime</th><th scope=col>angle</th></tr>\n",
       "\t<tr><th></th><th scope=col>&lt;dttm&gt;</th><th scope=col>&lt;dbl&gt;</th><th scope=col>&lt;dbl&gt;</th><th scope=col>&lt;dbl&gt;</th><th scope=col>&lt;chr&gt;</th><th scope=col>&lt;dbl&gt;</th><th scope=col>&lt;dttm&gt;</th><th scope=col>&lt;dbl&gt;</th></tr>\n",
       "</thead>\n",
       "<tbody>\n",
       "\t<tr><th scope=row>1</th><td>2006-02-11 01:31:58</td><td>0</td><td>0</td><td>0</td><td>00:14:bf:b1:97:8a</td><td>-38</td><td>2006-02-11 01:31:58</td><td>0</td></tr>\n",
       "\t<tr><th scope=row>2</th><td>2006-02-11 01:31:58</td><td>0</td><td>0</td><td>0</td><td>00:14:bf:b1:97:90</td><td>-56</td><td>2006-02-11 01:31:58</td><td>0</td></tr>\n",
       "\t<tr><th scope=row>3</th><td>2006-02-11 01:31:58</td><td>0</td><td>0</td><td>0</td><td>00:0f:a3:39:e1:c0</td><td>-53</td><td>2006-02-11 01:31:58</td><td>0</td></tr>\n",
       "\t<tr><th scope=row>4</th><td>2006-02-11 01:31:58</td><td>0</td><td>0</td><td>0</td><td>00:14:bf:b1:97:8d</td><td>-65</td><td>2006-02-11 01:31:58</td><td>0</td></tr>\n",
       "\t<tr><th scope=row>5</th><td>2006-02-11 01:31:58</td><td>0</td><td>0</td><td>0</td><td>00:14:bf:b1:97:81</td><td>-65</td><td>2006-02-11 01:31:58</td><td>0</td></tr>\n",
       "\t<tr><th scope=row>6</th><td>2006-02-11 01:31:58</td><td>0</td><td>0</td><td>0</td><td>00:14:bf:3b:c7:c6</td><td>-66</td><td>2006-02-11 01:31:58</td><td>0</td></tr>\n",
       "</tbody>\n",
       "</table>\n"
      ],
      "text/latex": [
       "A data.frame: 6 × 8\n",
       "\\begin{tabular}{r|llllllll}\n",
       "  & time & posX & posY & orientation & mac & signal & rawTime & angle\\\\\n",
       "  & <dttm> & <dbl> & <dbl> & <dbl> & <chr> & <dbl> & <dttm> & <dbl>\\\\\n",
       "\\hline\n",
       "\t1 & 2006-02-11 01:31:58 & 0 & 0 & 0 & 00:14:bf:b1:97:8a & -38 & 2006-02-11 01:31:58 & 0\\\\\n",
       "\t2 & 2006-02-11 01:31:58 & 0 & 0 & 0 & 00:14:bf:b1:97:90 & -56 & 2006-02-11 01:31:58 & 0\\\\\n",
       "\t3 & 2006-02-11 01:31:58 & 0 & 0 & 0 & 00:0f:a3:39:e1:c0 & -53 & 2006-02-11 01:31:58 & 0\\\\\n",
       "\t4 & 2006-02-11 01:31:58 & 0 & 0 & 0 & 00:14:bf:b1:97:8d & -65 & 2006-02-11 01:31:58 & 0\\\\\n",
       "\t5 & 2006-02-11 01:31:58 & 0 & 0 & 0 & 00:14:bf:b1:97:81 & -65 & 2006-02-11 01:31:58 & 0\\\\\n",
       "\t6 & 2006-02-11 01:31:58 & 0 & 0 & 0 & 00:14:bf:3b:c7:c6 & -66 & 2006-02-11 01:31:58 & 0\\\\\n",
       "\\end{tabular}\n"
      ],
      "text/markdown": [
       "\n",
       "A data.frame: 6 × 8\n",
       "\n",
       "| <!--/--> | time &lt;dttm&gt; | posX &lt;dbl&gt; | posY &lt;dbl&gt; | orientation &lt;dbl&gt; | mac &lt;chr&gt; | signal &lt;dbl&gt; | rawTime &lt;dttm&gt; | angle &lt;dbl&gt; |\n",
       "|---|---|---|---|---|---|---|---|---|\n",
       "| 1 | 2006-02-11 01:31:58 | 0 | 0 | 0 | 00:14:bf:b1:97:8a | -38 | 2006-02-11 01:31:58 | 0 |\n",
       "| 2 | 2006-02-11 01:31:58 | 0 | 0 | 0 | 00:14:bf:b1:97:90 | -56 | 2006-02-11 01:31:58 | 0 |\n",
       "| 3 | 2006-02-11 01:31:58 | 0 | 0 | 0 | 00:0f:a3:39:e1:c0 | -53 | 2006-02-11 01:31:58 | 0 |\n",
       "| 4 | 2006-02-11 01:31:58 | 0 | 0 | 0 | 00:14:bf:b1:97:8d | -65 | 2006-02-11 01:31:58 | 0 |\n",
       "| 5 | 2006-02-11 01:31:58 | 0 | 0 | 0 | 00:14:bf:b1:97:81 | -65 | 2006-02-11 01:31:58 | 0 |\n",
       "| 6 | 2006-02-11 01:31:58 | 0 | 0 | 0 | 00:14:bf:3b:c7:c6 | -66 | 2006-02-11 01:31:58 | 0 |\n",
       "\n"
      ],
      "text/plain": [
       "  time                posX posY orientation mac               signal\n",
       "1 2006-02-11 01:31:58 0    0    0           00:14:bf:b1:97:8a -38   \n",
       "2 2006-02-11 01:31:58 0    0    0           00:14:bf:b1:97:90 -56   \n",
       "3 2006-02-11 01:31:58 0    0    0           00:0f:a3:39:e1:c0 -53   \n",
       "4 2006-02-11 01:31:58 0    0    0           00:14:bf:b1:97:8d -65   \n",
       "5 2006-02-11 01:31:58 0    0    0           00:14:bf:b1:97:81 -65   \n",
       "6 2006-02-11 01:31:58 0    0    0           00:14:bf:3b:c7:c6 -66   \n",
       "  rawTime             angle\n",
       "1 2006-02-11 01:31:58 0    \n",
       "2 2006-02-11 01:31:58 0    \n",
       "3 2006-02-11 01:31:58 0    \n",
       "4 2006-02-11 01:31:58 0    \n",
       "5 2006-02-11 01:31:58 0    \n",
       "6 2006-02-11 01:31:58 0    "
      ]
     },
     "metadata": {},
     "output_type": "display_data"
    }
   ],
   "source": [
    "head(offline)"
   ]
  },
  {
   "cell_type": "code",
   "execution_count": 14,
   "metadata": {},
   "outputs": [
    {
     "data": {
      "image/png": "[encoded data removed]",
      "text/plain": [
       "plot without title"
      ]
     },
     "metadata": {
      "image/png": {
       "height": 420,
       "width": 420
      }
     },
     "output_type": "display_data"
    }
   ],
   "source": [
    "# plot signal strength for each device\n",
    "# poor mac id 7.  he gets dropped\n",
    "library(lattice)\n",
    "bwplot(signal ~ factor(angle) | mac, data = offline, \n",
    "       subset = posX == 2 & posY == 12 \n",
    "                & mac != \"00:0f:a3:39:dd:cd\", \n",
    "       layout = c(2,3))"
   ]
  },
  {
   "cell_type": "code",
   "execution_count": 8,
   "metadata": {},
   "outputs": [
    {
     "data": {
      "text/html": [
       "<ol class=list-inline>\n",
       "\t<li>'00:14:bf:b1:97:8a'</li>\n",
       "\t<li>'00:14:bf:b1:97:90'</li>\n",
       "\t<li>'00:0f:a3:39:e1:c0'</li>\n",
       "\t<li>'00:14:bf:b1:97:8d'</li>\n",
       "\t<li>'00:14:bf:b1:97:81'</li>\n",
       "\t<li>'00:14:bf:3b:c7:c6'</li>\n",
       "\t<li>'00:0f:a3:39:dd:cd'</li>\n",
       "</ol>\n"
      ],
      "text/latex": [
       "\\begin{enumerate*}\n",
       "\\item '00:14:bf:b1:97:8a'\n",
       "\\item '00:14:bf:b1:97:90'\n",
       "\\item '00:0f:a3:39:e1:c0'\n",
       "\\item '00:14:bf:b1:97:8d'\n",
       "\\item '00:14:bf:b1:97:81'\n",
       "\\item '00:14:bf:3b:c7:c6'\n",
       "\\item '00:0f:a3:39:dd:cd'\n",
       "\\end{enumerate*}\n"
      ],
      "text/markdown": [
       "1. '00:14:bf:b1:97:8a'\n",
       "2. '00:14:bf:b1:97:90'\n",
       "3. '00:0f:a3:39:e1:c0'\n",
       "4. '00:14:bf:b1:97:8d'\n",
       "5. '00:14:bf:b1:97:81'\n",
       "6. '00:14:bf:3b:c7:c6'\n",
       "7. '00:0f:a3:39:dd:cd'\n",
       "\n",
       "\n"
      ],
      "text/plain": [
       "[1] \"00:14:bf:b1:97:8a\" \"00:14:bf:b1:97:90\" \"00:0f:a3:39:e1:c0\"\n",
       "[4] \"00:14:bf:b1:97:8d\" \"00:14:bf:b1:97:81\" \"00:14:bf:3b:c7:c6\"\n",
       "[7] \"00:0f:a3:39:dd:cd\""
      ]
     },
     "metadata": {},
     "output_type": "display_data"
    }
   ],
   "source": [
    "unique(offline$mac)"
   ]
  },
  {
   "cell_type": "code",
   "execution_count": 16,
   "metadata": {},
   "outputs": [],
   "source": [
    "#Setup all the data using the data summary\n",
    "offline$posXY = paste(offline$posX, offline$posY, sep = \"-\")\n",
    "\n",
    "byLocAngleAP = with(offline, \n",
    "                    by(offline, list(posXY, angle, mac), \n",
    "                       function(x) x))\n",
    "\n",
    "signalSummary = \n",
    "  lapply(byLocAngleAP,            \n",
    "         function(oneLoc) {\n",
    "           ans = oneLoc[1, ]\n",
    "           ans$medSignal = median(oneLoc$signal)\n",
    "           ans$avgSignal = mean(oneLoc$signal)\n",
    "           ans$num = length(oneLoc$signal) \n",
    "           ans$sdSignal = sd(oneLoc$signal)\n",
    "           ans$iqrSignal = IQR(oneLoc$signal)\n",
    "           ans\n",
    "           })\n",
    "\n",
    "offlineSummary = do.call(\"rbind\", signalSummary)     "
   ]
  },
  {
   "cell_type": "code",
   "execution_count": 17,
   "metadata": {},
   "outputs": [
    {
     "data": {
      "text/html": [
       "<ol class=list-inline>\n",
       "\t<li>'00:0f:a3:39:dd:cd'</li>\n",
       "\t<li>'00:0f:a3:39:e1:c0'</li>\n",
       "\t<li>'00:14:bf:3b:c7:c6'</li>\n",
       "\t<li>'00:14:bf:b1:97:81'</li>\n",
       "\t<li>'00:14:bf:b1:97:8a'</li>\n",
       "\t<li>'00:14:bf:b1:97:8d'</li>\n",
       "\t<li>'00:14:bf:b1:97:90'</li>\n",
       "</ol>\n"
      ],
      "text/latex": [
       "\\begin{enumerate*}\n",
       "\\item '00:0f:a3:39:dd:cd'\n",
       "\\item '00:0f:a3:39:e1:c0'\n",
       "\\item '00:14:bf:3b:c7:c6'\n",
       "\\item '00:14:bf:b1:97:81'\n",
       "\\item '00:14:bf:b1:97:8a'\n",
       "\\item '00:14:bf:b1:97:8d'\n",
       "\\item '00:14:bf:b1:97:90'\n",
       "\\end{enumerate*}\n"
      ],
      "text/markdown": [
       "1. '00:0f:a3:39:dd:cd'\n",
       "2. '00:0f:a3:39:e1:c0'\n",
       "3. '00:14:bf:3b:c7:c6'\n",
       "4. '00:14:bf:b1:97:81'\n",
       "5. '00:14:bf:b1:97:8a'\n",
       "6. '00:14:bf:b1:97:8d'\n",
       "7. '00:14:bf:b1:97:90'\n",
       "\n",
       "\n"
      ],
      "text/plain": [
       "[1] \"00:0f:a3:39:dd:cd\" \"00:0f:a3:39:e1:c0\" \"00:14:bf:3b:c7:c6\"\n",
       "[4] \"00:14:bf:b1:97:81\" \"00:14:bf:b1:97:8a\" \"00:14:bf:b1:97:8d\"\n",
       "[7] \"00:14:bf:b1:97:90\""
      ]
     },
     "metadata": {},
     "output_type": "display_data"
    }
   ],
   "source": [
    "unique(offlineSummary$mac)"
   ]
  },
  {
   "cell_type": "code",
   "execution_count": 19,
   "metadata": {},
   "outputs": [
    {
     "data": {
      "text/html": [
       "<ol class=list-inline>\n",
       "\t<li>'00:0f:a3:39:e1:c0'</li>\n",
       "\t<li>'00:0f:a3:39:dd:cd'</li>\n",
       "\t<li>'00:14:bf:b1:97:8a'</li>\n",
       "\t<li>'00:14:bf:3b:c7:c6'</li>\n",
       "\t<li>'00:14:bf:b1:97:90'</li>\n",
       "\t<li>'00:14:bf:b1:97:8d'</li>\n",
       "\t<li>'00:14:bf:b1:97:81'</li>\n",
       "</ol>\n"
      ],
      "text/latex": [
       "\\begin{enumerate*}\n",
       "\\item '00:0f:a3:39:e1:c0'\n",
       "\\item '00:0f:a3:39:dd:cd'\n",
       "\\item '00:14:bf:b1:97:8a'\n",
       "\\item '00:14:bf:3b:c7:c6'\n",
       "\\item '00:14:bf:b1:97:90'\n",
       "\\item '00:14:bf:b1:97:8d'\n",
       "\\item '00:14:bf:b1:97:81'\n",
       "\\end{enumerate*}\n"
      ],
      "text/markdown": [
       "1. '00:0f:a3:39:e1:c0'\n",
       "2. '00:0f:a3:39:dd:cd'\n",
       "3. '00:14:bf:b1:97:8a'\n",
       "4. '00:14:bf:3b:c7:c6'\n",
       "5. '00:14:bf:b1:97:90'\n",
       "6. '00:14:bf:b1:97:8d'\n",
       "7. '00:14:bf:b1:97:81'\n",
       "\n",
       "\n"
      ],
      "text/plain": [
       "[1] \"00:0f:a3:39:e1:c0\" \"00:0f:a3:39:dd:cd\" \"00:14:bf:b1:97:8a\"\n",
       "[4] \"00:14:bf:3b:c7:c6\" \"00:14:bf:b1:97:90\" \"00:14:bf:b1:97:8d\"\n",
       "[7] \"00:14:bf:b1:97:81\""
      ]
     },
     "metadata": {},
     "output_type": "display_data"
    }
   ],
   "source": [
    "subMacs = names(sort(table(offline$mac), decreasing = TRUE))[1:7]\n",
    "subMacs"
   ]
  },
  {
   "cell_type": "code",
   "execution_count": 20,
   "metadata": {},
   "outputs": [],
   "source": [
    "# option1 where we drop a macid \"'00:0f:a3:39:dd:cd'\"\n",
    "offlineSummary_t1 = subset(offlineSummary, mac != subMacs[2])\n",
    "\n",
    "# option2 where we drop a macid \"'00:0f:a3:39:e1:c0'\"\n",
    "offlineSummary_t2 = subset(offlineSummary, mac != subMacs[1])"
   ]
  },
  {
   "cell_type": "markdown",
   "metadata": {},
   "source": [
    "#### Read in Online Data"
   ]
  },
  {
   "cell_type": "code",
   "execution_count": 22,
   "metadata": {},
   "outputs": [
    {
     "data": {
      "text/html": [
       "60"
      ],
      "text/latex": [
       "60"
      ],
      "text/markdown": [
       "60"
      ],
      "text/plain": [
       "[1] 60"
      ]
     },
     "metadata": {},
     "output_type": "display_data"
    },
    {
     "data": {
      "text/plain": [
       "            \n",
       "               0  45  90 135 180 225 270 315\n",
       "  0-0.05       0   0   0 704   0   0   0   0\n",
       "  0.15-9.42    0   0 717   0   0   0   0   0\n",
       "  0.31-11.09   0   0   0   0   0 684   0   0\n",
       "  0.47-8.2   701   0   0   0   0   0   0   0\n",
       "  0.78-10.94 695   0   0   0   0   0   0   0\n",
       "  0.93-11.69   0   0   0   0 691   0   0   0"
      ]
     },
     "metadata": {},
     "output_type": "display_data"
    }
   ],
   "source": [
    "# tally signal strength\n",
    "\n",
    "macs = unique(offlineSummary$mac)\n",
    "online = readData(\"online.final.trace.txt\", subMacs = macs)\n",
    "\n",
    "online$posXY = paste(online$posX, online$posY, sep = \"-\")\n",
    "\n",
    "length(unique(online$posXY))\n",
    "\n",
    "tabonlineXYA = table(online$posXY, online$angle)\n",
    "tabonlineXYA[1:6, ]"
   ]
  },
  {
   "cell_type": "code",
   "execution_count": 33,
   "metadata": {},
   "outputs": [],
   "source": [
    "keepVars = c(\"posXY\", \"posX\",\"posY\", \"orientation\", \"angle\")\n",
    "byLoc = with(online, \n",
    "             by(online, list(posXY), \n",
    "                function(x) {\n",
    "                  ans = x[1, keepVars]\n",
    "                  avgSS = tapply(x$signal, x$mac, mean)\n",
    "                  y = matrix(avgSS, nrow = 1, ncol = 7,\n",
    "                        dimnames = list(ans$posXY, names(avgSS)))\n",
    "                  cbind(ans, y)\n",
    "                }))\n",
    "onlineSummary = do.call(\"rbind\", byLoc)  "
   ]
  },
  {
   "cell_type": "code",
   "execution_count": 68,
   "metadata": {},
   "outputs": [],
   "source": [
    "# option1 where we drop a macid \"'00:0f:a3:39:dd:cd'\"\n",
    "online1 = online[ online$mac != \"00:0f:a3:39:dd:cd\", ]\n",
    "byLoc1 = with(online1, \n",
    "             by(online1, list(posXY), \n",
    "                function(x) {\n",
    "                  ans = x[1, keepVars]\n",
    "                  avgSS = tapply(x$signal, x$mac, mean)\n",
    "                  y = matrix(avgSS, nrow = 1, ncol = 6,\n",
    "                        dimnames = list(ans$posXY, names(avgSS)))\n",
    "                  cbind(ans, y)\n",
    "                }))\n",
    "\n",
    "onlineSummary_t1 = do.call(\"rbind\", byLoc1)  \n",
    "\n"
   ]
  },
  {
   "cell_type": "code",
   "execution_count": 69,
   "metadata": {},
   "outputs": [
    {
     "data": {
      "text/html": [
       "<table>\n",
       "<caption>A data.frame: 60 × 11</caption>\n",
       "<thead>\n",
       "\t<tr><th></th><th scope=col>posXY</th><th scope=col>posX</th><th scope=col>posY</th><th scope=col>orientation</th><th scope=col>angle</th><th scope=col>00:0f:a3:39:e1:c0</th><th scope=col>00:14:bf:3b:c7:c6</th><th scope=col>00:14:bf:b1:97:81</th><th scope=col>00:14:bf:b1:97:8a</th><th scope=col>00:14:bf:b1:97:8d</th><th scope=col>00:14:bf:b1:97:90</th></tr>\n",
       "\t<tr><th></th><th scope=col>&lt;chr&gt;</th><th scope=col>&lt;dbl&gt;</th><th scope=col>&lt;dbl&gt;</th><th scope=col>&lt;dbl&gt;</th><th scope=col>&lt;dbl&gt;</th><th scope=col>&lt;dbl&gt;</th><th scope=col>&lt;dbl&gt;</th><th scope=col>&lt;dbl&gt;</th><th scope=col>&lt;dbl&gt;</th><th scope=col>&lt;dbl&gt;</th><th scope=col>&lt;dbl&gt;</th></tr>\n",
       "</thead>\n",
       "<tbody>\n",
       "\t<tr><th scope=row>0-0.05</th><td>0-0.05    </td><td> 0.00</td><td> 0.05</td><td>130.5</td><td>135</td><td>-52.22727</td><td>-62.94898</td><td>-61.81395</td><td>-40.06897</td><td>-63.04301</td><td>-55.23333</td></tr>\n",
       "\t<tr><th scope=row>0.15-9.42</th><td>0.15-9.42 </td><td> 0.15</td><td> 9.42</td><td>112.3</td><td> 90</td><td>-55.27523</td><td>-73.96190</td><td>-72.70103</td><td>-47.81308</td><td>-69.45455</td><td>-46.88000</td></tr>\n",
       "\t<tr><th scope=row>0.31-11.09</th><td>0.31-11.09</td><td> 0.31</td><td>11.09</td><td>230.1</td><td>225</td><td>-51.70909</td><td>-70.08247</td><td>-70.09890</td><td>-54.08824</td><td>-69.13158</td><td>-53.88660</td></tr>\n",
       "\t<tr><th scope=row>0.47-8.2</th><td>0.47-8.2  </td><td> 0.47</td><td> 8.20</td><td>  5.8</td><td>  0</td><td>-49.50000</td><td>-64.25806</td><td>-72.59770</td><td>-45.65289</td><td>-60.79747</td><td>-49.58000</td></tr>\n",
       "\t<tr><th scope=row>0.78-10.94</th><td>0.78-10.94</td><td> 0.78</td><td>10.94</td><td>348.3</td><td>  0</td><td>-53.26364</td><td>-66.96000</td><td>-66.80952</td><td>-48.41379</td><td>-65.00000</td><td>-54.84694</td></tr>\n",
       "\t<tr><th scope=row>0.93-11.69</th><td>0.93-11.69</td><td> 0.93</td><td>11.69</td><td>158.3</td><td>180</td><td>-57.96364</td><td>-70.44340</td><td>-70.58025</td><td>-43.66346</td><td>-65.59302</td><td>-47.27083</td></tr>\n",
       "\t<tr><th scope=row>1.08-12.19</th><td>1.08-12.19</td><td> 1.08</td><td>12.19</td><td>229.1</td><td>225</td><td>-54.82727</td><td>-69.20192</td><td>-67.92553</td><td>-52.00820</td><td>-71.58696</td><td>-51.66667</td></tr>\n",
       "\t<tr><th scope=row>1.24-3.93</th><td>1.24-3.93 </td><td> 1.24</td><td> 3.93</td><td>261.5</td><td>270</td><td>-56.47273</td><td>-69.62745</td><td>-59.76136</td><td>-38.91753</td><td>-71.66667</td><td>-53.23333</td></tr>\n",
       "\t<tr><th scope=row>1.39-6.61</th><td>1.39-6.61 </td><td> 1.39</td><td> 6.61</td><td>114.1</td><td>135</td><td>-51.28182</td><td>-62.23913</td><td>-64.56627</td><td>-48.92381</td><td>-60.79798</td><td>-50.49057</td></tr>\n",
       "\t<tr><th scope=row>1.52-9.32</th><td>1.52-9.32 </td><td> 1.52</td><td> 9.32</td><td>  7.0</td><td>  0</td><td>-50.36697</td><td>-63.35922</td><td>-67.48913</td><td>-50.04167</td><td>-65.10345</td><td>-49.38542</td></tr>\n",
       "\t<tr><th scope=row>1.55-0.96</th><td>1.55-0.96 </td><td> 1.55</td><td> 0.96</td><td>337.3</td><td>315</td><td>-49.17757</td><td>-66.08989</td><td>-57.69318</td><td>-42.99038</td><td>-63.52632</td><td>-50.04000</td></tr>\n",
       "\t<tr><th scope=row>1.58-5.26</th><td>1.58-5.26 </td><td> 1.58</td><td> 5.26</td><td>187.0</td><td>180</td><td>-50.58182</td><td>-64.66667</td><td>-57.42708</td><td>-40.50980</td><td>-61.97778</td><td>-62.48913</td></tr>\n",
       "\t<tr><th scope=row>1.71-1.81</th><td>1.71-1.81 </td><td> 1.71</td><td> 1.81</td><td> 86.6</td><td> 90</td><td>-54.55856</td><td>-61.75789</td><td>-66.12088</td><td>-37.01000</td><td>-64.33721</td><td>-53.21359</td></tr>\n",
       "\t<tr><th scope=row>1.86-8.08</th><td>1.86-8.08 </td><td> 1.86</td><td> 8.08</td><td>147.7</td><td>135</td><td>-54.38532</td><td>-62.06383</td><td>-63.03571</td><td>-50.58252</td><td>-51.38462</td><td>-49.96078</td></tr>\n",
       "\t<tr><th scope=row>10.23-6.88</th><td>10.23-6.88</td><td>10.23</td><td> 6.88</td><td>221.6</td><td>225</td><td>-45.83636</td><td>-58.29474</td><td>-59.21348</td><td>-58.57143</td><td>-50.10417</td><td>-67.56098</td></tr>\n",
       "\t<tr><th scope=row>10.46-5.8</th><td>10.46-5.8 </td><td>10.46</td><td> 5.80</td><td> 35.8</td><td> 45</td><td>-44.52727</td><td>-52.60241</td><td>-57.57895</td><td>-58.17204</td><td>-58.74444</td><td>-65.31111</td></tr>\n",
       "\t<tr><th scope=row>10.62-3.87</th><td>10.62-3.87</td><td>10.62</td><td> 3.87</td><td> 55.2</td><td> 45</td><td>-48.10909</td><td>-45.98039</td><td>-46.01111</td><td>-59.38333</td><td>-61.26582</td><td>-68.40909</td></tr>\n",
       "\t<tr><th scope=row>10.99-7.19</th><td>10.99-7.19</td><td>10.99</td><td> 7.19</td><td>289.5</td><td>270</td><td>-44.75455</td><td>-49.81633</td><td>-56.66292</td><td>-56.38739</td><td>-55.78161</td><td>-66.21429</td></tr>\n",
       "\t<tr><th scope=row>11.39-5</th><td>11.39-5   </td><td>11.39</td><td> 5.00</td><td> 89.4</td><td> 90</td><td>-54.01818</td><td>-48.89011</td><td>-59.76404</td><td>-58.79048</td><td>-58.35789</td><td>-74.37079</td></tr>\n",
       "\t<tr><th scope=row>11.76-7.76</th><td>11.76-7.76</td><td>11.76</td><td> 7.76</td><td>175.3</td><td>180</td><td>-48.47273</td><td>-54.76768</td><td>-59.32967</td><td>-57.10891</td><td>-54.22549</td><td>-67.06796</td></tr>\n",
       "\t<tr><th scope=row>12.16-5.25</th><td>12.16-5.25</td><td>12.16</td><td> 5.25</td><td> 73.0</td><td> 90</td><td>-52.30275</td><td>-49.90361</td><td>-59.13415</td><td>-52.58621</td><td>-56.73469</td><td>-67.09877</td></tr>\n",
       "\t<tr><th scope=row>12.18-3.4</th><td>12.18-3.4 </td><td>12.18</td><td> 3.40</td><td>257.2</td><td>270</td><td>-50.25455</td><td>-45.47727</td><td>-55.19149</td><td>-59.09574</td><td>-60.80851</td><td>-76.48864</td></tr>\n",
       "\t<tr><th scope=row>12.26-6.72</th><td>12.26-6.72</td><td>12.26</td><td> 6.72</td><td> 98.0</td><td> 90</td><td>-51.66364</td><td>-50.56180</td><td>-58.85393</td><td>-56.63636</td><td>-46.17708</td><td>-68.72449</td></tr>\n",
       "\t<tr><th scope=row>12.55-7.38</th><td>12.55-7.38</td><td>12.55</td><td> 7.38</td><td> 20.9</td><td>  0</td><td>-41.66972</td><td>-52.32941</td><td>-58.08791</td><td>-62.24038</td><td>-51.67327</td><td>-68.34940</td></tr>\n",
       "\t<tr><th scope=row>12.95-5.25</th><td>12.95-5.25</td><td>12.95</td><td> 5.25</td><td>120.5</td><td>135</td><td>-50.14545</td><td>-47.92929</td><td>-56.78161</td><td>-57.38261</td><td>-58.03191</td><td>-69.42857</td></tr>\n",
       "\t<tr><th scope=row>14.98-7.55</th><td>14.98-7.55</td><td>14.98</td><td> 7.55</td><td> 94.4</td><td> 90</td><td>-53.22727</td><td>-53.54902</td><td>-53.06122</td><td>-66.53659</td><td>-44.18085</td><td>-77.11111</td></tr>\n",
       "\t<tr><th scope=row>16.44-7.45</th><td>16.44-7.45</td><td>16.44</td><td> 7.45</td><td>264.6</td><td>270</td><td>-53.45455</td><td>-58.18824</td><td>-52.74725</td><td>-58.28261</td><td>-45.52222</td><td>-68.65934</td></tr>\n",
       "\t<tr><th scope=row>2.02-7.45</th><td>2.02-7.45 </td><td> 2.02</td><td> 7.45</td><td> 94.3</td><td> 90</td><td>-55.44954</td><td>-66.21212</td><td>-66.16667</td><td>-48.09346</td><td>-57.96703</td><td>-58.68817</td></tr>\n",
       "\t<tr><th scope=row>2.49-7.6</th><td>2.49-7.6  </td><td> 2.49</td><td> 7.60</td><td>316.7</td><td>315</td><td>-58.74074</td><td>-65.31522</td><td>-67.35955</td><td>-43.86111</td><td>-62.64444</td><td>-44.71698</td></tr>\n",
       "\t<tr><th scope=row>21.23-5.47</th><td>21.23-5.47</td><td>21.23</td><td> 5.47</td><td>115.8</td><td>135</td><td>-57.21818</td><td>-62.32653</td><td>-50.75000</td><td>-62.22105</td><td>-50.95506</td><td>-79.14130</td></tr>\n",
       "\t<tr><th scope=row>21.3-3.8</th><td>21.3-3.8  </td><td>21.30</td><td> 3.80</td><td>120.1</td><td>135</td><td>-60.18018</td><td>-61.67816</td><td>-44.22222</td><td>-67.09278</td><td>-56.42222</td><td>-78.50459</td></tr>\n",
       "\t<tr><th scope=row>21.45-6.62</th><td>21.45-6.62</td><td>21.45</td><td> 6.62</td><td> 27.3</td><td> 45</td><td>-53.60909</td><td>-60.32927</td><td>-49.98667</td><td>-60.42857</td><td>-41.11364</td><td>-70.95181</td></tr>\n",
       "\t<tr><th scope=row>21.6-7.63</th><td>21.6-7.63 </td><td>21.60</td><td> 7.63</td><td>192.0</td><td>180</td><td>-54.54545</td><td>-61.39773</td><td>-52.94186</td><td>-72.88043</td><td>-50.27473</td><td>-80.23913</td></tr>\n",
       "\t<tr><th scope=row>21.98-7.46</th><td>21.98-7.46</td><td>21.98</td><td> 7.46</td><td>325.8</td><td>315</td><td>-53.25000</td><td>-61.76667</td><td>-53.83696</td><td>-60.47863</td><td>-52.13978</td><td>-76.55422</td></tr>\n",
       "\t<tr><th scope=row>22.3-6.36</th><td>22.3-6.36 </td><td>22.30</td><td> 6.36</td><td>123.3</td><td>135</td><td>-61.86364</td><td>-60.09091</td><td>-51.77907</td><td>-64.20652</td><td>-47.46739</td><td>-77.80460</td></tr>\n",
       "\t<tr><th scope=row>22.38-3.94</th><td>22.38-3.94</td><td>22.38</td><td> 3.94</td><td>319.3</td><td>315</td><td>-57.57009</td><td>-61.15116</td><td>-52.61798</td><td>-58.39535</td><td>-49.43678</td><td>-73.38636</td></tr>\n",
       "\t<tr><th scope=row>22.76-5.06</th><td>22.76-5.06</td><td>22.76</td><td> 5.06</td><td>251.2</td><td>270</td><td>-57.64220</td><td>-61.07609</td><td>-53.14737</td><td>-61.75269</td><td>-49.97917</td><td>-76.54444</td></tr>\n",
       "\t<tr><th scope=row>23.24-7.5</th><td>23.24-7.5 </td><td>23.24</td><td> 7.50</td><td>  7.9</td><td>  0</td><td>-56.48182</td><td>-59.52874</td><td>-53.79348</td><td>-65.22772</td><td>-56.66316</td><td>-69.67391</td></tr>\n",
       "\t<tr><th scope=row>23.36-3.4</th><td>23.36-3.4 </td><td>23.36</td><td> 3.40</td><td>309.4</td><td>315</td><td>-58.63889</td><td>-57.63830</td><td>-53.00000</td><td>-54.15741</td><td>-54.28736</td><td>-73.41860</td></tr>\n",
       "\t<tr><th scope=row>23.53-4.22</th><td>23.53-4.22</td><td>23.53</td><td> 4.22</td><td>205.2</td><td>225</td><td>-58.85047</td><td>-63.76136</td><td>-50.84706</td><td>-56.97753</td><td>-55.40698</td><td>-78.16092</td></tr>\n",
       "\t<tr><th scope=row>23.9-7</th><td>23.9-7    </td><td>23.90</td><td> 7.00</td><td>344.9</td><td>  0</td><td>-57.51852</td><td>-61.65556</td><td>-54.16495</td><td>-64.83333</td><td>-58.33735</td><td>-69.24468</td></tr>\n",
       "\t<tr><th scope=row>24.31-3.89</th><td>24.31-3.89</td><td>24.31</td><td> 3.89</td><td>301.3</td><td>315</td><td>-55.38182</td><td>-58.11702</td><td>-52.49451</td><td>-65.45652</td><td>-54.35000</td><td>-78.72449</td></tr>\n",
       "\t<tr><th scope=row>24.7-7.7</th><td>24.7-7.7  </td><td>24.70</td><td> 7.70</td><td> 87.9</td><td> 90</td><td>-55.95413</td><td>-63.43478</td><td>-56.61538</td><td>-70.97000</td><td>-44.89011</td><td>-75.44318</td></tr>\n",
       "\t<tr><th scope=row>25.23-7.78</th><td>25.23-7.78</td><td>25.23</td><td> 7.78</td><td> 10.0</td><td>  0</td><td>-54.64220</td><td>-66.38144</td><td>-53.67033</td><td>-67.12745</td><td>-47.34694</td><td>-73.71277</td></tr>\n",
       "\t<tr><th scope=row>25.76-7.34</th><td>25.76-7.34</td><td>25.76</td><td> 7.34</td><td>122.7</td><td>135</td><td>-57.54206</td><td>-68.34409</td><td>-52.56818</td><td>-63.50000</td><td>-45.03297</td><td>-77.07447</td></tr>\n",
       "\t<tr><th scope=row>26.71-7.5</th><td>26.71-7.5 </td><td>26.71</td><td> 7.50</td><td> 96.0</td><td> 90</td><td>-57.93636</td><td>-66.93827</td><td>-48.82979</td><td>-68.05556</td><td>-47.25243</td><td>-75.80460</td></tr>\n",
       "\t<tr><th scope=row>28.12-7.57</th><td>28.12-7.57</td><td>28.12</td><td> 7.57</td><td>310.2</td><td>315</td><td>-56.59633</td><td>-64.30693</td><td>-53.96739</td><td>-68.77551</td><td>-53.68421</td><td>-70.62000</td></tr>\n",
       "\t<tr><th scope=row>29.58-7.93</th><td>29.58-7.93</td><td>29.58</td><td> 7.93</td><td>314.9</td><td>315</td><td>-53.79091</td><td>-69.32143</td><td>-48.34737</td><td>-68.84000</td><td>-49.95745</td><td>-75.66667</td></tr>\n",
       "\t<tr><th scope=row>3.44-7.43</th><td>3.44-7.43 </td><td> 3.44</td><td> 7.43</td><td> 51.4</td><td> 45</td><td>-51.23148</td><td>-63.43333</td><td>-62.39535</td><td>-51.42857</td><td>-52.05941</td><td>-60.35484</td></tr>\n",
       "\t<tr><th scope=row>31.06-7.19</th><td>31.06-7.19</td><td>31.06</td><td> 7.19</td><td>247.1</td><td>225</td><td>-56.12963</td><td>-70.86585</td><td>-45.40860</td><td>-62.20652</td><td>-39.36264</td><td>-79.72619</td></tr>\n",
       "\t<tr><th scope=row>31.78-7.62</th><td>31.78-7.62</td><td>31.78</td><td> 7.62</td><td>261.5</td><td>270</td><td>-54.90000</td><td>-65.65625</td><td>-49.38824</td><td>-65.94574</td><td>-45.44944</td><td>-76.68932</td></tr>\n",
       "\t<tr><th scope=row>32.16-7.08</th><td>32.16-7.08</td><td>32.16</td><td> 7.08</td><td>110.4</td><td> 90</td><td>-59.01852</td><td>-70.26471</td><td>-44.57303</td><td>-69.33621</td><td>-37.55340</td><td>-77.05600</td></tr>\n",
       "\t<tr><th scope=row>32.54-7.08</th><td>32.54-7.08</td><td>32.54</td><td> 7.08</td><td> 50.3</td><td> 45</td><td>-53.98165</td><td>-64.98913</td><td>-53.78261</td><td>-68.54639</td><td>-32.84946</td><td>-71.63953</td></tr>\n",
       "\t<tr><th scope=row>4.51-7.63</th><td>4.51-7.63 </td><td> 4.51</td><td> 7.63</td><td>330.5</td><td>315</td><td>-48.88182</td><td>-65.48485</td><td>-65.15217</td><td>-50.73134</td><td>-62.29268</td><td>-60.14851</td></tr>\n",
       "\t<tr><th scope=row>6-7.88</th><td>6-7.88    </td><td> 6.00</td><td> 7.88</td><td>137.0</td><td>135</td><td>-47.75229</td><td>-57.37634</td><td>-58.78481</td><td>-51.07000</td><td>-54.40000</td><td>-61.91667</td></tr>\n",
       "\t<tr><th scope=row>7.48-7.36</th><td>7.48-7.36 </td><td> 7.48</td><td> 7.36</td><td>340.1</td><td>  0</td><td>-43.56881</td><td>-59.63158</td><td>-61.59574</td><td>-52.70642</td><td>-59.89362</td><td>-63.77528</td></tr>\n",
       "\t<tr><th scope=row>8.56-7.64</th><td>8.56-7.64 </td><td> 8.56</td><td> 7.64</td><td>305.1</td><td>315</td><td>-46.19266</td><td>-53.83133</td><td>-61.20652</td><td>-55.89320</td><td>-56.65217</td><td>-66.17021</td></tr>\n",
       "\t<tr><th scope=row>9.08-7.24</th><td>9.08-7.24 </td><td> 9.08</td><td> 7.24</td><td>338.0</td><td>  0</td><td>-48.30275</td><td>-53.66667</td><td>-58.09639</td><td>-59.20652</td><td>-57.08434</td><td>-65.36364</td></tr>\n",
       "\t<tr><th scope=row>9.46-7.77</th><td>9.46-7.77 </td><td> 9.46</td><td> 7.77</td><td>169.4</td><td>180</td><td>-45.48182</td><td>-49.64516</td><td>-61.18824</td><td>-60.80851</td><td>-49.34118</td><td>-71.44737</td></tr>\n",
       "\t<tr><th scope=row>9.86-3.88</th><td>9.86-3.88 </td><td> 9.86</td><td> 3.88</td><td>191.1</td><td>180</td><td>-55.30909</td><td>-44.13131</td><td>-52.63333</td><td>-55.94000</td><td>-55.94937</td><td>-65.53261</td></tr>\n",
       "</tbody>\n",
       "</table>\n"
      ],
      "text/latex": [
       "A data.frame: 60 × 11\n",
       "\\begin{tabular}{r|lllllllllll}\n",
       "  & posXY & posX & posY & orientation & angle & 00:0f:a3:39:e1:c0 & 00:14:bf:3b:c7:c6 & 00:14:bf:b1:97:81 & 00:14:bf:b1:97:8a & 00:14:bf:b1:97:8d & 00:14:bf:b1:97:90\\\\\n",
       "  & <chr> & <dbl> & <dbl> & <dbl> & <dbl> & <dbl> & <dbl> & <dbl> & <dbl> & <dbl> & <dbl>\\\\\n",
       "\\hline\n",
       "\t0-0.05 & 0-0.05     &  0.00 &  0.05 & 130.5 & 135 & -52.22727 & -62.94898 & -61.81395 & -40.06897 & -63.04301 & -55.23333\\\\\n",
       "\t0.15-9.42 & 0.15-9.42  &  0.15 &  9.42 & 112.3 &  90 & -55.27523 & -73.96190 & -72.70103 & -47.81308 & -69.45455 & -46.88000\\\\\n",
       "\t0.31-11.09 & 0.31-11.09 &  0.31 & 11.09 & 230.1 & 225 & -51.70909 & -70.08247 & -70.09890 & -54.08824 & -69.13158 & -53.88660\\\\\n",
       "\t0.47-8.2 & 0.47-8.2   &  0.47 &  8.20 &   5.8 &   0 & -49.50000 & -64.25806 & -72.59770 & -45.65289 & -60.79747 & -49.58000\\\\\n",
       "\t0.78-10.94 & 0.78-10.94 &  0.78 & 10.94 & 348.3 &   0 & -53.26364 & -66.96000 & -66.80952 & -48.41379 & -65.00000 & -54.84694\\\\\n",
       "\t0.93-11.69 & 0.93-11.69 &  0.93 & 11.69 & 158.3 & 180 & -57.96364 & -70.44340 & -70.58025 & -43.66346 & -65.59302 & -47.27083\\\\\n",
       "\t1.08-12.19 & 1.08-12.19 &  1.08 & 12.19 & 229.1 & 225 & -54.82727 & -69.20192 & -67.92553 & -52.00820 & -71.58696 & -51.66667\\\\\n",
       "\t1.24-3.93 & 1.24-3.93  &  1.24 &  3.93 & 261.5 & 270 & -56.47273 & -69.62745 & -59.76136 & -38.91753 & -71.66667 & -53.23333\\\\\n",
       "\t1.39-6.61 & 1.39-6.61  &  1.39 &  6.61 & 114.1 & 135 & -51.28182 & -62.23913 & -64.56627 & -48.92381 & -60.79798 & -50.49057\\\\\n",
       "\t1.52-9.32 & 1.52-9.32  &  1.52 &  9.32 &   7.0 &   0 & -50.36697 & -63.35922 & -67.48913 & -50.04167 & -65.10345 & -49.38542\\\\\n",
       "\t1.55-0.96 & 1.55-0.96  &  1.55 &  0.96 & 337.3 & 315 & -49.17757 & -66.08989 & -57.69318 & -42.99038 & -63.52632 & -50.04000\\\\\n",
       "\t1.58-5.26 & 1.58-5.26  &  1.58 &  5.26 & 187.0 & 180 & -50.58182 & -64.66667 & -57.42708 & -40.50980 & -61.97778 & -62.48913\\\\\n",
       "\t1.71-1.81 & 1.71-1.81  &  1.71 &  1.81 &  86.6 &  90 & -54.55856 & -61.75789 & -66.12088 & -37.01000 & -64.33721 & -53.21359\\\\\n",
       "\t1.86-8.08 & 1.86-8.08  &  1.86 &  8.08 & 147.7 & 135 & -54.38532 & -62.06383 & -63.03571 & -50.58252 & -51.38462 & -49.96078\\\\\n",
       "\t10.23-6.88 & 10.23-6.88 & 10.23 &  6.88 & 221.6 & 225 & -45.83636 & -58.29474 & -59.21348 & -58.57143 & -50.10417 & -67.56098\\\\\n",
       "\t10.46-5.8 & 10.46-5.8  & 10.46 &  5.80 &  35.8 &  45 & -44.52727 & -52.60241 & -57.57895 & -58.17204 & -58.74444 & -65.31111\\\\\n",
       "\t10.62-3.87 & 10.62-3.87 & 10.62 &  3.87 &  55.2 &  45 & -48.10909 & -45.98039 & -46.01111 & -59.38333 & -61.26582 & -68.40909\\\\\n",
       "\t10.99-7.19 & 10.99-7.19 & 10.99 &  7.19 & 289.5 & 270 & -44.75455 & -49.81633 & -56.66292 & -56.38739 & -55.78161 & -66.21429\\\\\n",
       "\t11.39-5 & 11.39-5    & 11.39 &  5.00 &  89.4 &  90 & -54.01818 & -48.89011 & -59.76404 & -58.79048 & -58.35789 & -74.37079\\\\\n",
       "\t11.76-7.76 & 11.76-7.76 & 11.76 &  7.76 & 175.3 & 180 & -48.47273 & -54.76768 & -59.32967 & -57.10891 & -54.22549 & -67.06796\\\\\n",
       "\t12.16-5.25 & 12.16-5.25 & 12.16 &  5.25 &  73.0 &  90 & -52.30275 & -49.90361 & -59.13415 & -52.58621 & -56.73469 & -67.09877\\\\\n",
       "\t12.18-3.4 & 12.18-3.4  & 12.18 &  3.40 & 257.2 & 270 & -50.25455 & -45.47727 & -55.19149 & -59.09574 & -60.80851 & -76.48864\\\\\n",
       "\t12.26-6.72 & 12.26-6.72 & 12.26 &  6.72 &  98.0 &  90 & -51.66364 & -50.56180 & -58.85393 & -56.63636 & -46.17708 & -68.72449\\\\\n",
       "\t12.55-7.38 & 12.55-7.38 & 12.55 &  7.38 &  20.9 &   0 & -41.66972 & -52.32941 & -58.08791 & -62.24038 & -51.67327 & -68.34940\\\\\n",
       "\t12.95-5.25 & 12.95-5.25 & 12.95 &  5.25 & 120.5 & 135 & -50.14545 & -47.92929 & -56.78161 & -57.38261 & -58.03191 & -69.42857\\\\\n",
       "\t14.98-7.55 & 14.98-7.55 & 14.98 &  7.55 &  94.4 &  90 & -53.22727 & -53.54902 & -53.06122 & -66.53659 & -44.18085 & -77.11111\\\\\n",
       "\t16.44-7.45 & 16.44-7.45 & 16.44 &  7.45 & 264.6 & 270 & -53.45455 & -58.18824 & -52.74725 & -58.28261 & -45.52222 & -68.65934\\\\\n",
       "\t2.02-7.45 & 2.02-7.45  &  2.02 &  7.45 &  94.3 &  90 & -55.44954 & -66.21212 & -66.16667 & -48.09346 & -57.96703 & -58.68817\\\\\n",
       "\t2.49-7.6 & 2.49-7.6   &  2.49 &  7.60 & 316.7 & 315 & -58.74074 & -65.31522 & -67.35955 & -43.86111 & -62.64444 & -44.71698\\\\\n",
       "\t21.23-5.47 & 21.23-5.47 & 21.23 &  5.47 & 115.8 & 135 & -57.21818 & -62.32653 & -50.75000 & -62.22105 & -50.95506 & -79.14130\\\\\n",
       "\t21.3-3.8 & 21.3-3.8   & 21.30 &  3.80 & 120.1 & 135 & -60.18018 & -61.67816 & -44.22222 & -67.09278 & -56.42222 & -78.50459\\\\\n",
       "\t21.45-6.62 & 21.45-6.62 & 21.45 &  6.62 &  27.3 &  45 & -53.60909 & -60.32927 & -49.98667 & -60.42857 & -41.11364 & -70.95181\\\\\n",
       "\t21.6-7.63 & 21.6-7.63  & 21.60 &  7.63 & 192.0 & 180 & -54.54545 & -61.39773 & -52.94186 & -72.88043 & -50.27473 & -80.23913\\\\\n",
       "\t21.98-7.46 & 21.98-7.46 & 21.98 &  7.46 & 325.8 & 315 & -53.25000 & -61.76667 & -53.83696 & -60.47863 & -52.13978 & -76.55422\\\\\n",
       "\t22.3-6.36 & 22.3-6.36  & 22.30 &  6.36 & 123.3 & 135 & -61.86364 & -60.09091 & -51.77907 & -64.20652 & -47.46739 & -77.80460\\\\\n",
       "\t22.38-3.94 & 22.38-3.94 & 22.38 &  3.94 & 319.3 & 315 & -57.57009 & -61.15116 & -52.61798 & -58.39535 & -49.43678 & -73.38636\\\\\n",
       "\t22.76-5.06 & 22.76-5.06 & 22.76 &  5.06 & 251.2 & 270 & -57.64220 & -61.07609 & -53.14737 & -61.75269 & -49.97917 & -76.54444\\\\\n",
       "\t23.24-7.5 & 23.24-7.5  & 23.24 &  7.50 &   7.9 &   0 & -56.48182 & -59.52874 & -53.79348 & -65.22772 & -56.66316 & -69.67391\\\\\n",
       "\t23.36-3.4 & 23.36-3.4  & 23.36 &  3.40 & 309.4 & 315 & -58.63889 & -57.63830 & -53.00000 & -54.15741 & -54.28736 & -73.41860\\\\\n",
       "\t23.53-4.22 & 23.53-4.22 & 23.53 &  4.22 & 205.2 & 225 & -58.85047 & -63.76136 & -50.84706 & -56.97753 & -55.40698 & -78.16092\\\\\n",
       "\t23.9-7 & 23.9-7     & 23.90 &  7.00 & 344.9 &   0 & -57.51852 & -61.65556 & -54.16495 & -64.83333 & -58.33735 & -69.24468\\\\\n",
       "\t24.31-3.89 & 24.31-3.89 & 24.31 &  3.89 & 301.3 & 315 & -55.38182 & -58.11702 & -52.49451 & -65.45652 & -54.35000 & -78.72449\\\\\n",
       "\t24.7-7.7 & 24.7-7.7   & 24.70 &  7.70 &  87.9 &  90 & -55.95413 & -63.43478 & -56.61538 & -70.97000 & -44.89011 & -75.44318\\\\\n",
       "\t25.23-7.78 & 25.23-7.78 & 25.23 &  7.78 &  10.0 &   0 & -54.64220 & -66.38144 & -53.67033 & -67.12745 & -47.34694 & -73.71277\\\\\n",
       "\t25.76-7.34 & 25.76-7.34 & 25.76 &  7.34 & 122.7 & 135 & -57.54206 & -68.34409 & -52.56818 & -63.50000 & -45.03297 & -77.07447\\\\\n",
       "\t26.71-7.5 & 26.71-7.5  & 26.71 &  7.50 &  96.0 &  90 & -57.93636 & -66.93827 & -48.82979 & -68.05556 & -47.25243 & -75.80460\\\\\n",
       "\t28.12-7.57 & 28.12-7.57 & 28.12 &  7.57 & 310.2 & 315 & -56.59633 & -64.30693 & -53.96739 & -68.77551 & -53.68421 & -70.62000\\\\\n",
       "\t29.58-7.93 & 29.58-7.93 & 29.58 &  7.93 & 314.9 & 315 & -53.79091 & -69.32143 & -48.34737 & -68.84000 & -49.95745 & -75.66667\\\\\n",
       "\t3.44-7.43 & 3.44-7.43  &  3.44 &  7.43 &  51.4 &  45 & -51.23148 & -63.43333 & -62.39535 & -51.42857 & -52.05941 & -60.35484\\\\\n",
       "\t31.06-7.19 & 31.06-7.19 & 31.06 &  7.19 & 247.1 & 225 & -56.12963 & -70.86585 & -45.40860 & -62.20652 & -39.36264 & -79.72619\\\\\n",
       "\t31.78-7.62 & 31.78-7.62 & 31.78 &  7.62 & 261.5 & 270 & -54.90000 & -65.65625 & -49.38824 & -65.94574 & -45.44944 & -76.68932\\\\\n",
       "\t32.16-7.08 & 32.16-7.08 & 32.16 &  7.08 & 110.4 &  90 & -59.01852 & -70.26471 & -44.57303 & -69.33621 & -37.55340 & -77.05600\\\\\n",
       "\t32.54-7.08 & 32.54-7.08 & 32.54 &  7.08 &  50.3 &  45 & -53.98165 & -64.98913 & -53.78261 & -68.54639 & -32.84946 & -71.63953\\\\\n",
       "\t4.51-7.63 & 4.51-7.63  &  4.51 &  7.63 & 330.5 & 315 & -48.88182 & -65.48485 & -65.15217 & -50.73134 & -62.29268 & -60.14851\\\\\n",
       "\t6-7.88 & 6-7.88     &  6.00 &  7.88 & 137.0 & 135 & -47.75229 & -57.37634 & -58.78481 & -51.07000 & -54.40000 & -61.91667\\\\\n",
       "\t7.48-7.36 & 7.48-7.36  &  7.48 &  7.36 & 340.1 &   0 & -43.56881 & -59.63158 & -61.59574 & -52.70642 & -59.89362 & -63.77528\\\\\n",
       "\t8.56-7.64 & 8.56-7.64  &  8.56 &  7.64 & 305.1 & 315 & -46.19266 & -53.83133 & -61.20652 & -55.89320 & -56.65217 & -66.17021\\\\\n",
       "\t9.08-7.24 & 9.08-7.24  &  9.08 &  7.24 & 338.0 &   0 & -48.30275 & -53.66667 & -58.09639 & -59.20652 & -57.08434 & -65.36364\\\\\n",
       "\t9.46-7.77 & 9.46-7.77  &  9.46 &  7.77 & 169.4 & 180 & -45.48182 & -49.64516 & -61.18824 & -60.80851 & -49.34118 & -71.44737\\\\\n",
       "\t9.86-3.88 & 9.86-3.88  &  9.86 &  3.88 & 191.1 & 180 & -55.30909 & -44.13131 & -52.63333 & -55.94000 & -55.94937 & -65.53261\\\\\n",
       "\\end{tabular}\n"
      ],
      "text/markdown": [
       "\n",
       "A data.frame: 60 × 11\n",
       "\n",
       "| <!--/--> | posXY &lt;chr&gt; | posX &lt;dbl&gt; | posY &lt;dbl&gt; | orientation &lt;dbl&gt; | angle &lt;dbl&gt; | 00:0f:a3:39:e1:c0 &lt;dbl&gt; | 00:14:bf:3b:c7:c6 &lt;dbl&gt; | 00:14:bf:b1:97:81 &lt;dbl&gt; | 00:14:bf:b1:97:8a &lt;dbl&gt; | 00:14:bf:b1:97:8d &lt;dbl&gt; | 00:14:bf:b1:97:90 &lt;dbl&gt; |\n",
       "|---|---|---|---|---|---|---|---|---|---|---|---|\n",
       "| 0-0.05 | 0-0.05     |  0.00 |  0.05 | 130.5 | 135 | -52.22727 | -62.94898 | -61.81395 | -40.06897 | -63.04301 | -55.23333 |\n",
       "| 0.15-9.42 | 0.15-9.42  |  0.15 |  9.42 | 112.3 |  90 | -55.27523 | -73.96190 | -72.70103 | -47.81308 | -69.45455 | -46.88000 |\n",
       "| 0.31-11.09 | 0.31-11.09 |  0.31 | 11.09 | 230.1 | 225 | -51.70909 | -70.08247 | -70.09890 | -54.08824 | -69.13158 | -53.88660 |\n",
       "| 0.47-8.2 | 0.47-8.2   |  0.47 |  8.20 |   5.8 |   0 | -49.50000 | -64.25806 | -72.59770 | -45.65289 | -60.79747 | -49.58000 |\n",
       "| 0.78-10.94 | 0.78-10.94 |  0.78 | 10.94 | 348.3 |   0 | -53.26364 | -66.96000 | -66.80952 | -48.41379 | -65.00000 | -54.84694 |\n",
       "| 0.93-11.69 | 0.93-11.69 |  0.93 | 11.69 | 158.3 | 180 | -57.96364 | -70.44340 | -70.58025 | -43.66346 | -65.59302 | -47.27083 |\n",
       "| 1.08-12.19 | 1.08-12.19 |  1.08 | 12.19 | 229.1 | 225 | -54.82727 | -69.20192 | -67.92553 | -52.00820 | -71.58696 | -51.66667 |\n",
       "| 1.24-3.93 | 1.24-3.93  |  1.24 |  3.93 | 261.5 | 270 | -56.47273 | -69.62745 | -59.76136 | -38.91753 | -71.66667 | -53.23333 |\n",
       "| 1.39-6.61 | 1.39-6.61  |  1.39 |  6.61 | 114.1 | 135 | -51.28182 | -62.23913 | -64.56627 | -48.92381 | -60.79798 | -50.49057 |\n",
       "| 1.52-9.32 | 1.52-9.32  |  1.52 |  9.32 |   7.0 |   0 | -50.36697 | -63.35922 | -67.48913 | -50.04167 | -65.10345 | -49.38542 |\n",
       "| 1.55-0.96 | 1.55-0.96  |  1.55 |  0.96 | 337.3 | 315 | -49.17757 | -66.08989 | -57.69318 | -42.99038 | -63.52632 | -50.04000 |\n",
       "| 1.58-5.26 | 1.58-5.26  |  1.58 |  5.26 | 187.0 | 180 | -50.58182 | -64.66667 | -57.42708 | -40.50980 | -61.97778 | -62.48913 |\n",
       "| 1.71-1.81 | 1.71-1.81  |  1.71 |  1.81 |  86.6 |  90 | -54.55856 | -61.75789 | -66.12088 | -37.01000 | -64.33721 | -53.21359 |\n",
       "| 1.86-8.08 | 1.86-8.08  |  1.86 |  8.08 | 147.7 | 135 | -54.38532 | -62.06383 | -63.03571 | -50.58252 | -51.38462 | -49.96078 |\n",
       "| 10.23-6.88 | 10.23-6.88 | 10.23 |  6.88 | 221.6 | 225 | -45.83636 | -58.29474 | -59.21348 | -58.57143 | -50.10417 | -67.56098 |\n",
       "| 10.46-5.8 | 10.46-5.8  | 10.46 |  5.80 |  35.8 |  45 | -44.52727 | -52.60241 | -57.57895 | -58.17204 | -58.74444 | -65.31111 |\n",
       "| 10.62-3.87 | 10.62-3.87 | 10.62 |  3.87 |  55.2 |  45 | -48.10909 | -45.98039 | -46.01111 | -59.38333 | -61.26582 | -68.40909 |\n",
       "| 10.99-7.19 | 10.99-7.19 | 10.99 |  7.19 | 289.5 | 270 | -44.75455 | -49.81633 | -56.66292 | -56.38739 | -55.78161 | -66.21429 |\n",
       "| 11.39-5 | 11.39-5    | 11.39 |  5.00 |  89.4 |  90 | -54.01818 | -48.89011 | -59.76404 | -58.79048 | -58.35789 | -74.37079 |\n",
       "| 11.76-7.76 | 11.76-7.76 | 11.76 |  7.76 | 175.3 | 180 | -48.47273 | -54.76768 | -59.32967 | -57.10891 | -54.22549 | -67.06796 |\n",
       "| 12.16-5.25 | 12.16-5.25 | 12.16 |  5.25 |  73.0 |  90 | -52.30275 | -49.90361 | -59.13415 | -52.58621 | -56.73469 | -67.09877 |\n",
       "| 12.18-3.4 | 12.18-3.4  | 12.18 |  3.40 | 257.2 | 270 | -50.25455 | -45.47727 | -55.19149 | -59.09574 | -60.80851 | -76.48864 |\n",
       "| 12.26-6.72 | 12.26-6.72 | 12.26 |  6.72 |  98.0 |  90 | -51.66364 | -50.56180 | -58.85393 | -56.63636 | -46.17708 | -68.72449 |\n",
       "| 12.55-7.38 | 12.55-7.38 | 12.55 |  7.38 |  20.9 |   0 | -41.66972 | -52.32941 | -58.08791 | -62.24038 | -51.67327 | -68.34940 |\n",
       "| 12.95-5.25 | 12.95-5.25 | 12.95 |  5.25 | 120.5 | 135 | -50.14545 | -47.92929 | -56.78161 | -57.38261 | -58.03191 | -69.42857 |\n",
       "| 14.98-7.55 | 14.98-7.55 | 14.98 |  7.55 |  94.4 |  90 | -53.22727 | -53.54902 | -53.06122 | -66.53659 | -44.18085 | -77.11111 |\n",
       "| 16.44-7.45 | 16.44-7.45 | 16.44 |  7.45 | 264.6 | 270 | -53.45455 | -58.18824 | -52.74725 | -58.28261 | -45.52222 | -68.65934 |\n",
       "| 2.02-7.45 | 2.02-7.45  |  2.02 |  7.45 |  94.3 |  90 | -55.44954 | -66.21212 | -66.16667 | -48.09346 | -57.96703 | -58.68817 |\n",
       "| 2.49-7.6 | 2.49-7.6   |  2.49 |  7.60 | 316.7 | 315 | -58.74074 | -65.31522 | -67.35955 | -43.86111 | -62.64444 | -44.71698 |\n",
       "| 21.23-5.47 | 21.23-5.47 | 21.23 |  5.47 | 115.8 | 135 | -57.21818 | -62.32653 | -50.75000 | -62.22105 | -50.95506 | -79.14130 |\n",
       "| 21.3-3.8 | 21.3-3.8   | 21.30 |  3.80 | 120.1 | 135 | -60.18018 | -61.67816 | -44.22222 | -67.09278 | -56.42222 | -78.50459 |\n",
       "| 21.45-6.62 | 21.45-6.62 | 21.45 |  6.62 |  27.3 |  45 | -53.60909 | -60.32927 | -49.98667 | -60.42857 | -41.11364 | -70.95181 |\n",
       "| 21.6-7.63 | 21.6-7.63  | 21.60 |  7.63 | 192.0 | 180 | -54.54545 | -61.39773 | -52.94186 | -72.88043 | -50.27473 | -80.23913 |\n",
       "| 21.98-7.46 | 21.98-7.46 | 21.98 |  7.46 | 325.8 | 315 | -53.25000 | -61.76667 | -53.83696 | -60.47863 | -52.13978 | -76.55422 |\n",
       "| 22.3-6.36 | 22.3-6.36  | 22.30 |  6.36 | 123.3 | 135 | -61.86364 | -60.09091 | -51.77907 | -64.20652 | -47.46739 | -77.80460 |\n",
       "| 22.38-3.94 | 22.38-3.94 | 22.38 |  3.94 | 319.3 | 315 | -57.57009 | -61.15116 | -52.61798 | -58.39535 | -49.43678 | -73.38636 |\n",
       "| 22.76-5.06 | 22.76-5.06 | 22.76 |  5.06 | 251.2 | 270 | -57.64220 | -61.07609 | -53.14737 | -61.75269 | -49.97917 | -76.54444 |\n",
       "| 23.24-7.5 | 23.24-7.5  | 23.24 |  7.50 |   7.9 |   0 | -56.48182 | -59.52874 | -53.79348 | -65.22772 | -56.66316 | -69.67391 |\n",
       "| 23.36-3.4 | 23.36-3.4  | 23.36 |  3.40 | 309.4 | 315 | -58.63889 | -57.63830 | -53.00000 | -54.15741 | -54.28736 | -73.41860 |\n",
       "| 23.53-4.22 | 23.53-4.22 | 23.53 |  4.22 | 205.2 | 225 | -58.85047 | -63.76136 | -50.84706 | -56.97753 | -55.40698 | -78.16092 |\n",
       "| 23.9-7 | 23.9-7     | 23.90 |  7.00 | 344.9 |   0 | -57.51852 | -61.65556 | -54.16495 | -64.83333 | -58.33735 | -69.24468 |\n",
       "| 24.31-3.89 | 24.31-3.89 | 24.31 |  3.89 | 301.3 | 315 | -55.38182 | -58.11702 | -52.49451 | -65.45652 | -54.35000 | -78.72449 |\n",
       "| 24.7-7.7 | 24.7-7.7   | 24.70 |  7.70 |  87.9 |  90 | -55.95413 | -63.43478 | -56.61538 | -70.97000 | -44.89011 | -75.44318 |\n",
       "| 25.23-7.78 | 25.23-7.78 | 25.23 |  7.78 |  10.0 |   0 | -54.64220 | -66.38144 | -53.67033 | -67.12745 | -47.34694 | -73.71277 |\n",
       "| 25.76-7.34 | 25.76-7.34 | 25.76 |  7.34 | 122.7 | 135 | -57.54206 | -68.34409 | -52.56818 | -63.50000 | -45.03297 | -77.07447 |\n",
       "| 26.71-7.5 | 26.71-7.5  | 26.71 |  7.50 |  96.0 |  90 | -57.93636 | -66.93827 | -48.82979 | -68.05556 | -47.25243 | -75.80460 |\n",
       "| 28.12-7.57 | 28.12-7.57 | 28.12 |  7.57 | 310.2 | 315 | -56.59633 | -64.30693 | -53.96739 | -68.77551 | -53.68421 | -70.62000 |\n",
       "| 29.58-7.93 | 29.58-7.93 | 29.58 |  7.93 | 314.9 | 315 | -53.79091 | -69.32143 | -48.34737 | -68.84000 | -49.95745 | -75.66667 |\n",
       "| 3.44-7.43 | 3.44-7.43  |  3.44 |  7.43 |  51.4 |  45 | -51.23148 | -63.43333 | -62.39535 | -51.42857 | -52.05941 | -60.35484 |\n",
       "| 31.06-7.19 | 31.06-7.19 | 31.06 |  7.19 | 247.1 | 225 | -56.12963 | -70.86585 | -45.40860 | -62.20652 | -39.36264 | -79.72619 |\n",
       "| 31.78-7.62 | 31.78-7.62 | 31.78 |  7.62 | 261.5 | 270 | -54.90000 | -65.65625 | -49.38824 | -65.94574 | -45.44944 | -76.68932 |\n",
       "| 32.16-7.08 | 32.16-7.08 | 32.16 |  7.08 | 110.4 |  90 | -59.01852 | -70.26471 | -44.57303 | -69.33621 | -37.55340 | -77.05600 |\n",
       "| 32.54-7.08 | 32.54-7.08 | 32.54 |  7.08 |  50.3 |  45 | -53.98165 | -64.98913 | -53.78261 | -68.54639 | -32.84946 | -71.63953 |\n",
       "| 4.51-7.63 | 4.51-7.63  |  4.51 |  7.63 | 330.5 | 315 | -48.88182 | -65.48485 | -65.15217 | -50.73134 | -62.29268 | -60.14851 |\n",
       "| 6-7.88 | 6-7.88     |  6.00 |  7.88 | 137.0 | 135 | -47.75229 | -57.37634 | -58.78481 | -51.07000 | -54.40000 | -61.91667 |\n",
       "| 7.48-7.36 | 7.48-7.36  |  7.48 |  7.36 | 340.1 |   0 | -43.56881 | -59.63158 | -61.59574 | -52.70642 | -59.89362 | -63.77528 |\n",
       "| 8.56-7.64 | 8.56-7.64  |  8.56 |  7.64 | 305.1 | 315 | -46.19266 | -53.83133 | -61.20652 | -55.89320 | -56.65217 | -66.17021 |\n",
       "| 9.08-7.24 | 9.08-7.24  |  9.08 |  7.24 | 338.0 |   0 | -48.30275 | -53.66667 | -58.09639 | -59.20652 | -57.08434 | -65.36364 |\n",
       "| 9.46-7.77 | 9.46-7.77  |  9.46 |  7.77 | 169.4 | 180 | -45.48182 | -49.64516 | -61.18824 | -60.80851 | -49.34118 | -71.44737 |\n",
       "| 9.86-3.88 | 9.86-3.88  |  9.86 |  3.88 | 191.1 | 180 | -55.30909 | -44.13131 | -52.63333 | -55.94000 | -55.94937 | -65.53261 |\n",
       "\n"
      ],
      "text/plain": [
       "           posXY      posX  posY  orientation angle 00:0f:a3:39:e1:c0\n",
       "0-0.05     0-0.05      0.00  0.05 130.5       135   -52.22727        \n",
       "0.15-9.42  0.15-9.42   0.15  9.42 112.3        90   -55.27523        \n",
       "0.31-11.09 0.31-11.09  0.31 11.09 230.1       225   -51.70909        \n",
       "0.47-8.2   0.47-8.2    0.47  8.20   5.8         0   -49.50000        \n",
       "0.78-10.94 0.78-10.94  0.78 10.94 348.3         0   -53.26364        \n",
       "0.93-11.69 0.93-11.69  0.93 11.69 158.3       180   -57.96364        \n",
       "1.08-12.19 1.08-12.19  1.08 12.19 229.1       225   -54.82727        \n",
       "1.24-3.93  1.24-3.93   1.24  3.93 261.5       270   -56.47273        \n",
       "1.39-6.61  1.39-6.61   1.39  6.61 114.1       135   -51.28182        \n",
       "1.52-9.32  1.52-9.32   1.52  9.32   7.0         0   -50.36697        \n",
       "1.55-0.96  1.55-0.96   1.55  0.96 337.3       315   -49.17757        \n",
       "1.58-5.26  1.58-5.26   1.58  5.26 187.0       180   -50.58182        \n",
       "1.71-1.81  1.71-1.81   1.71  1.81  86.6        90   -54.55856        \n",
       "1.86-8.08  1.86-8.08   1.86  8.08 147.7       135   -54.38532        \n",
       "10.23-6.88 10.23-6.88 10.23  6.88 221.6       225   -45.83636        \n",
       "10.46-5.8  10.46-5.8  10.46  5.80  35.8        45   -44.52727        \n",
       "10.62-3.87 10.62-3.87 10.62  3.87  55.2        45   -48.10909        \n",
       "10.99-7.19 10.99-7.19 10.99  7.19 289.5       270   -44.75455        \n",
       "11.39-5    11.39-5    11.39  5.00  89.4        90   -54.01818        \n",
       "11.76-7.76 11.76-7.76 11.76  7.76 175.3       180   -48.47273        \n",
       "12.16-5.25 12.16-5.25 12.16  5.25  73.0        90   -52.30275        \n",
       "12.18-3.4  12.18-3.4  12.18  3.40 257.2       270   -50.25455        \n",
       "12.26-6.72 12.26-6.72 12.26  6.72  98.0        90   -51.66364        \n",
       "12.55-7.38 12.55-7.38 12.55  7.38  20.9         0   -41.66972        \n",
       "12.95-5.25 12.95-5.25 12.95  5.25 120.5       135   -50.14545        \n",
       "14.98-7.55 14.98-7.55 14.98  7.55  94.4        90   -53.22727        \n",
       "16.44-7.45 16.44-7.45 16.44  7.45 264.6       270   -53.45455        \n",
       "2.02-7.45  2.02-7.45   2.02  7.45  94.3        90   -55.44954        \n",
       "2.49-7.6   2.49-7.6    2.49  7.60 316.7       315   -58.74074        \n",
       "21.23-5.47 21.23-5.47 21.23  5.47 115.8       135   -57.21818        \n",
       "21.3-3.8   21.3-3.8   21.30  3.80 120.1       135   -60.18018        \n",
       "21.45-6.62 21.45-6.62 21.45  6.62  27.3        45   -53.60909        \n",
       "21.6-7.63  21.6-7.63  21.60  7.63 192.0       180   -54.54545        \n",
       "21.98-7.46 21.98-7.46 21.98  7.46 325.8       315   -53.25000        \n",
       "22.3-6.36  22.3-6.36  22.30  6.36 123.3       135   -61.86364        \n",
       "22.38-3.94 22.38-3.94 22.38  3.94 319.3       315   -57.57009        \n",
       "22.76-5.06 22.76-5.06 22.76  5.06 251.2       270   -57.64220        \n",
       "23.24-7.5  23.24-7.5  23.24  7.50   7.9         0   -56.48182        \n",
       "23.36-3.4  23.36-3.4  23.36  3.40 309.4       315   -58.63889        \n",
       "23.53-4.22 23.53-4.22 23.53  4.22 205.2       225   -58.85047        \n",
       "23.9-7     23.9-7     23.90  7.00 344.9         0   -57.51852        \n",
       "24.31-3.89 24.31-3.89 24.31  3.89 301.3       315   -55.38182        \n",
       "24.7-7.7   24.7-7.7   24.70  7.70  87.9        90   -55.95413        \n",
       "25.23-7.78 25.23-7.78 25.23  7.78  10.0         0   -54.64220        \n",
       "25.76-7.34 25.76-7.34 25.76  7.34 122.7       135   -57.54206        \n",
       "26.71-7.5  26.71-7.5  26.71  7.50  96.0        90   -57.93636        \n",
       "28.12-7.57 28.12-7.57 28.12  7.57 310.2       315   -56.59633        \n",
       "29.58-7.93 29.58-7.93 29.58  7.93 314.9       315   -53.79091        \n",
       "3.44-7.43  3.44-7.43   3.44  7.43  51.4        45   -51.23148        \n",
       "31.06-7.19 31.06-7.19 31.06  7.19 247.1       225   -56.12963        \n",
       "31.78-7.62 31.78-7.62 31.78  7.62 261.5       270   -54.90000        \n",
       "32.16-7.08 32.16-7.08 32.16  7.08 110.4        90   -59.01852        \n",
       "32.54-7.08 32.54-7.08 32.54  7.08  50.3        45   -53.98165        \n",
       "4.51-7.63  4.51-7.63   4.51  7.63 330.5       315   -48.88182        \n",
       "6-7.88     6-7.88      6.00  7.88 137.0       135   -47.75229        \n",
       "7.48-7.36  7.48-7.36   7.48  7.36 340.1         0   -43.56881        \n",
       "8.56-7.64  8.56-7.64   8.56  7.64 305.1       315   -46.19266        \n",
       "9.08-7.24  9.08-7.24   9.08  7.24 338.0         0   -48.30275        \n",
       "9.46-7.77  9.46-7.77   9.46  7.77 169.4       180   -45.48182        \n",
       "9.86-3.88  9.86-3.88   9.86  3.88 191.1       180   -55.30909        \n",
       "           00:14:bf:3b:c7:c6 00:14:bf:b1:97:81 00:14:bf:b1:97:8a\n",
       "0-0.05     -62.94898         -61.81395         -40.06897        \n",
       "0.15-9.42  -73.96190         -72.70103         -47.81308        \n",
       "0.31-11.09 -70.08247         -70.09890         -54.08824        \n",
       "0.47-8.2   -64.25806         -72.59770         -45.65289        \n",
       "0.78-10.94 -66.96000         -66.80952         -48.41379        \n",
       "0.93-11.69 -70.44340         -70.58025         -43.66346        \n",
       "1.08-12.19 -69.20192         -67.92553         -52.00820        \n",
       "1.24-3.93  -69.62745         -59.76136         -38.91753        \n",
       "1.39-6.61  -62.23913         -64.56627         -48.92381        \n",
       "1.52-9.32  -63.35922         -67.48913         -50.04167        \n",
       "1.55-0.96  -66.08989         -57.69318         -42.99038        \n",
       "1.58-5.26  -64.66667         -57.42708         -40.50980        \n",
       "1.71-1.81  -61.75789         -66.12088         -37.01000        \n",
       "1.86-8.08  -62.06383         -63.03571         -50.58252        \n",
       "10.23-6.88 -58.29474         -59.21348         -58.57143        \n",
       "10.46-5.8  -52.60241         -57.57895         -58.17204        \n",
       "10.62-3.87 -45.98039         -46.01111         -59.38333        \n",
       "10.99-7.19 -49.81633         -56.66292         -56.38739        \n",
       "11.39-5    -48.89011         -59.76404         -58.79048        \n",
       "11.76-7.76 -54.76768         -59.32967         -57.10891        \n",
       "12.16-5.25 -49.90361         -59.13415         -52.58621        \n",
       "12.18-3.4  -45.47727         -55.19149         -59.09574        \n",
       "12.26-6.72 -50.56180         -58.85393         -56.63636        \n",
       "12.55-7.38 -52.32941         -58.08791         -62.24038        \n",
       "12.95-5.25 -47.92929         -56.78161         -57.38261        \n",
       "14.98-7.55 -53.54902         -53.06122         -66.53659        \n",
       "16.44-7.45 -58.18824         -52.74725         -58.28261        \n",
       "2.02-7.45  -66.21212         -66.16667         -48.09346        \n",
       "2.49-7.6   -65.31522         -67.35955         -43.86111        \n",
       "21.23-5.47 -62.32653         -50.75000         -62.22105        \n",
       "21.3-3.8   -61.67816         -44.22222         -67.09278        \n",
       "21.45-6.62 -60.32927         -49.98667         -60.42857        \n",
       "21.6-7.63  -61.39773         -52.94186         -72.88043        \n",
       "21.98-7.46 -61.76667         -53.83696         -60.47863        \n",
       "22.3-6.36  -60.09091         -51.77907         -64.20652        \n",
       "22.38-3.94 -61.15116         -52.61798         -58.39535        \n",
       "22.76-5.06 -61.07609         -53.14737         -61.75269        \n",
       "23.24-7.5  -59.52874         -53.79348         -65.22772        \n",
       "23.36-3.4  -57.63830         -53.00000         -54.15741        \n",
       "23.53-4.22 -63.76136         -50.84706         -56.97753        \n",
       "23.9-7     -61.65556         -54.16495         -64.83333        \n",
       "24.31-3.89 -58.11702         -52.49451         -65.45652        \n",
       "24.7-7.7   -63.43478         -56.61538         -70.97000        \n",
       "25.23-7.78 -66.38144         -53.67033         -67.12745        \n",
       "25.76-7.34 -68.34409         -52.56818         -63.50000        \n",
       "26.71-7.5  -66.93827         -48.82979         -68.05556        \n",
       "28.12-7.57 -64.30693         -53.96739         -68.77551        \n",
       "29.58-7.93 -69.32143         -48.34737         -68.84000        \n",
       "3.44-7.43  -63.43333         -62.39535         -51.42857        \n",
       "31.06-7.19 -70.86585         -45.40860         -62.20652        \n",
       "31.78-7.62 -65.65625         -49.38824         -65.94574        \n",
       "32.16-7.08 -70.26471         -44.57303         -69.33621        \n",
       "32.54-7.08 -64.98913         -53.78261         -68.54639        \n",
       "4.51-7.63  -65.48485         -65.15217         -50.73134        \n",
       "6-7.88     -57.37634         -58.78481         -51.07000        \n",
       "7.48-7.36  -59.63158         -61.59574         -52.70642        \n",
       "8.56-7.64  -53.83133         -61.20652         -55.89320        \n",
       "9.08-7.24  -53.66667         -58.09639         -59.20652        \n",
       "9.46-7.77  -49.64516         -61.18824         -60.80851        \n",
       "9.86-3.88  -44.13131         -52.63333         -55.94000        \n",
       "           00:14:bf:b1:97:8d 00:14:bf:b1:97:90\n",
       "0-0.05     -63.04301         -55.23333        \n",
       "0.15-9.42  -69.45455         -46.88000        \n",
       "0.31-11.09 -69.13158         -53.88660        \n",
       "0.47-8.2   -60.79747         -49.58000        \n",
       "0.78-10.94 -65.00000         -54.84694        \n",
       "0.93-11.69 -65.59302         -47.27083        \n",
       "1.08-12.19 -71.58696         -51.66667        \n",
       "1.24-3.93  -71.66667         -53.23333        \n",
       "1.39-6.61  -60.79798         -50.49057        \n",
       "1.52-9.32  -65.10345         -49.38542        \n",
       "1.55-0.96  -63.52632         -50.04000        \n",
       "1.58-5.26  -61.97778         -62.48913        \n",
       "1.71-1.81  -64.33721         -53.21359        \n",
       "1.86-8.08  -51.38462         -49.96078        \n",
       "10.23-6.88 -50.10417         -67.56098        \n",
       "10.46-5.8  -58.74444         -65.31111        \n",
       "10.62-3.87 -61.26582         -68.40909        \n",
       "10.99-7.19 -55.78161         -66.21429        \n",
       "11.39-5    -58.35789         -74.37079        \n",
       "11.76-7.76 -54.22549         -67.06796        \n",
       "12.16-5.25 -56.73469         -67.09877        \n",
       "12.18-3.4  -60.80851         -76.48864        \n",
       "12.26-6.72 -46.17708         -68.72449        \n",
       "12.55-7.38 -51.67327         -68.34940        \n",
       "12.95-5.25 -58.03191         -69.42857        \n",
       "14.98-7.55 -44.18085         -77.11111        \n",
       "16.44-7.45 -45.52222         -68.65934        \n",
       "2.02-7.45  -57.96703         -58.68817        \n",
       "2.49-7.6   -62.64444         -44.71698        \n",
       "21.23-5.47 -50.95506         -79.14130        \n",
       "21.3-3.8   -56.42222         -78.50459        \n",
       "21.45-6.62 -41.11364         -70.95181        \n",
       "21.6-7.63  -50.27473         -80.23913        \n",
       "21.98-7.46 -52.13978         -76.55422        \n",
       "22.3-6.36  -47.46739         -77.80460        \n",
       "22.38-3.94 -49.43678         -73.38636        \n",
       "22.76-5.06 -49.97917         -76.54444        \n",
       "23.24-7.5  -56.66316         -69.67391        \n",
       "23.36-3.4  -54.28736         -73.41860        \n",
       "23.53-4.22 -55.40698         -78.16092        \n",
       "23.9-7     -58.33735         -69.24468        \n",
       "24.31-3.89 -54.35000         -78.72449        \n",
       "24.7-7.7   -44.89011         -75.44318        \n",
       "25.23-7.78 -47.34694         -73.71277        \n",
       "25.76-7.34 -45.03297         -77.07447        \n",
       "26.71-7.5  -47.25243         -75.80460        \n",
       "28.12-7.57 -53.68421         -70.62000        \n",
       "29.58-7.93 -49.95745         -75.66667        \n",
       "3.44-7.43  -52.05941         -60.35484        \n",
       "31.06-7.19 -39.36264         -79.72619        \n",
       "31.78-7.62 -45.44944         -76.68932        \n",
       "32.16-7.08 -37.55340         -77.05600        \n",
       "32.54-7.08 -32.84946         -71.63953        \n",
       "4.51-7.63  -62.29268         -60.14851        \n",
       "6-7.88     -54.40000         -61.91667        \n",
       "7.48-7.36  -59.89362         -63.77528        \n",
       "8.56-7.64  -56.65217         -66.17021        \n",
       "9.08-7.24  -57.08434         -65.36364        \n",
       "9.46-7.77  -49.34118         -71.44737        \n",
       "9.86-3.88  -55.94937         -65.53261        "
      ]
     },
     "metadata": {},
     "output_type": "display_data"
    }
   ],
   "source": [
    "onlineSummary_t1"
   ]
  },
  {
   "cell_type": "code",
   "execution_count": 70,
   "metadata": {},
   "outputs": [
    {
     "data": {
      "text/html": [
       "<table>\n",
       "<caption>A data.frame: 60 × 11</caption>\n",
       "<thead>\n",
       "\t<tr><th></th><th scope=col>posXY</th><th scope=col>posX</th><th scope=col>posY</th><th scope=col>orientation</th><th scope=col>angle</th><th scope=col>00:0f:a3:39:dd:cd</th><th scope=col>00:14:bf:3b:c7:c6</th><th scope=col>00:14:bf:b1:97:81</th><th scope=col>00:14:bf:b1:97:8a</th><th scope=col>00:14:bf:b1:97:8d</th><th scope=col>00:14:bf:b1:97:90</th></tr>\n",
       "\t<tr><th></th><th scope=col>&lt;chr&gt;</th><th scope=col>&lt;dbl&gt;</th><th scope=col>&lt;dbl&gt;</th><th scope=col>&lt;dbl&gt;</th><th scope=col>&lt;dbl&gt;</th><th scope=col>&lt;dbl&gt;</th><th scope=col>&lt;dbl&gt;</th><th scope=col>&lt;dbl&gt;</th><th scope=col>&lt;dbl&gt;</th><th scope=col>&lt;dbl&gt;</th><th scope=col>&lt;dbl&gt;</th></tr>\n",
       "</thead>\n",
       "<tbody>\n",
       "\t<tr><th scope=row>0-0.05</th><td>0-0.05    </td><td> 0.00</td><td> 0.05</td><td>130.5</td><td>135</td><td>-63.20721</td><td>-62.94898</td><td>-61.81395</td><td>-40.06897</td><td>-63.04301</td><td>-55.23333</td></tr>\n",
       "\t<tr><th scope=row>0.15-9.42</th><td>0.15-9.42 </td><td> 0.15</td><td> 9.42</td><td>112.3</td><td> 90</td><td>-66.11712</td><td>-73.96190</td><td>-72.70103</td><td>-47.81308</td><td>-69.45455</td><td>-46.88000</td></tr>\n",
       "\t<tr><th scope=row>0.31-11.09</th><td>0.31-11.09</td><td> 0.31</td><td>11.09</td><td>230.1</td><td>225</td><td>-67.05405</td><td>-70.08247</td><td>-70.09890</td><td>-54.08824</td><td>-69.13158</td><td>-53.88660</td></tr>\n",
       "\t<tr><th scope=row>0.47-8.2</th><td>0.47-8.2  </td><td> 0.47</td><td> 8.20</td><td>  5.8</td><td>  0</td><td>-74.15315</td><td>-64.25806</td><td>-72.59770</td><td>-45.65289</td><td>-60.79747</td><td>-49.58000</td></tr>\n",
       "\t<tr><th scope=row>0.78-10.94</th><td>0.78-10.94</td><td> 0.78</td><td>10.94</td><td>348.3</td><td>  0</td><td>-71.40367</td><td>-66.96000</td><td>-66.80952</td><td>-48.41379</td><td>-65.00000</td><td>-54.84694</td></tr>\n",
       "\t<tr><th scope=row>0.93-11.69</th><td>0.93-11.69</td><td> 0.93</td><td>11.69</td><td>158.3</td><td>180</td><td>-69.99074</td><td>-70.44340</td><td>-70.58025</td><td>-43.66346</td><td>-65.59302</td><td>-47.27083</td></tr>\n",
       "\t<tr><th scope=row>1.08-12.19</th><td>1.08-12.19</td><td> 1.08</td><td>12.19</td><td>229.1</td><td>225</td><td>-73.43750</td><td>-69.20192</td><td>-67.92553</td><td>-52.00820</td><td>-71.58696</td><td>-51.66667</td></tr>\n",
       "\t<tr><th scope=row>1.24-3.93</th><td>1.24-3.93 </td><td> 1.24</td><td> 3.93</td><td>261.5</td><td>270</td><td>-71.11009</td><td>-69.62745</td><td>-59.76136</td><td>-38.91753</td><td>-71.66667</td><td>-53.23333</td></tr>\n",
       "\t<tr><th scope=row>1.39-6.61</th><td>1.39-6.61 </td><td> 1.39</td><td> 6.61</td><td>114.1</td><td>135</td><td>-59.75676</td><td>-62.23913</td><td>-64.56627</td><td>-48.92381</td><td>-60.79798</td><td>-50.49057</td></tr>\n",
       "\t<tr><th scope=row>1.52-9.32</th><td>1.52-9.32 </td><td> 1.52</td><td> 9.32</td><td>  7.0</td><td>  0</td><td>-65.38318</td><td>-63.35922</td><td>-67.48913</td><td>-50.04167</td><td>-65.10345</td><td>-49.38542</td></tr>\n",
       "\t<tr><th scope=row>1.55-0.96</th><td>1.55-0.96 </td><td> 1.55</td><td> 0.96</td><td>337.3</td><td>315</td><td>-68.06481</td><td>-66.08989</td><td>-57.69318</td><td>-42.99038</td><td>-63.52632</td><td>-50.04000</td></tr>\n",
       "\t<tr><th scope=row>1.58-5.26</th><td>1.58-5.26 </td><td> 1.58</td><td> 5.26</td><td>187.0</td><td>180</td><td>-72.07339</td><td>-64.66667</td><td>-57.42708</td><td>-40.50980</td><td>-61.97778</td><td>-62.48913</td></tr>\n",
       "\t<tr><th scope=row>1.71-1.81</th><td>1.71-1.81 </td><td> 1.71</td><td> 1.81</td><td> 86.6</td><td> 90</td><td>-65.53636</td><td>-61.75789</td><td>-66.12088</td><td>-37.01000</td><td>-64.33721</td><td>-53.21359</td></tr>\n",
       "\t<tr><th scope=row>1.86-8.08</th><td>1.86-8.08 </td><td> 1.86</td><td> 8.08</td><td>147.7</td><td>135</td><td>-66.53153</td><td>-62.06383</td><td>-63.03571</td><td>-50.58252</td><td>-51.38462</td><td>-49.96078</td></tr>\n",
       "\t<tr><th scope=row>10.23-6.88</th><td>10.23-6.88</td><td>10.23</td><td> 6.88</td><td>221.6</td><td>225</td><td>-57.65455</td><td>-58.29474</td><td>-59.21348</td><td>-58.57143</td><td>-50.10417</td><td>-67.56098</td></tr>\n",
       "\t<tr><th scope=row>10.46-5.8</th><td>10.46-5.8 </td><td>10.46</td><td> 5.80</td><td> 35.8</td><td> 45</td><td>-64.97273</td><td>-52.60241</td><td>-57.57895</td><td>-58.17204</td><td>-58.74444</td><td>-65.31111</td></tr>\n",
       "\t<tr><th scope=row>10.62-3.87</th><td>10.62-3.87</td><td>10.62</td><td> 3.87</td><td> 55.2</td><td> 45</td><td>-66.50893</td><td>-45.98039</td><td>-46.01111</td><td>-59.38333</td><td>-61.26582</td><td>-68.40909</td></tr>\n",
       "\t<tr><th scope=row>10.99-7.19</th><td>10.99-7.19</td><td>10.99</td><td> 7.19</td><td>289.5</td><td>270</td><td>-61.03571</td><td>-49.81633</td><td>-56.66292</td><td>-56.38739</td><td>-55.78161</td><td>-66.21429</td></tr>\n",
       "\t<tr><th scope=row>11.39-5</th><td>11.39-5   </td><td>11.39</td><td> 5.00</td><td> 89.4</td><td> 90</td><td>-64.31532</td><td>-48.89011</td><td>-59.76404</td><td>-58.79048</td><td>-58.35789</td><td>-74.37079</td></tr>\n",
       "\t<tr><th scope=row>11.76-7.76</th><td>11.76-7.76</td><td>11.76</td><td> 7.76</td><td>175.3</td><td>180</td><td>-65.19091</td><td>-54.76768</td><td>-59.32967</td><td>-57.10891</td><td>-54.22549</td><td>-67.06796</td></tr>\n",
       "\t<tr><th scope=row>12.16-5.25</th><td>12.16-5.25</td><td>12.16</td><td> 5.25</td><td> 73.0</td><td> 90</td><td>-69.20175</td><td>-49.90361</td><td>-59.13415</td><td>-52.58621</td><td>-56.73469</td><td>-67.09877</td></tr>\n",
       "\t<tr><th scope=row>12.18-3.4</th><td>12.18-3.4 </td><td>12.18</td><td> 3.40</td><td>257.2</td><td>270</td><td>-64.99091</td><td>-45.47727</td><td>-55.19149</td><td>-59.09574</td><td>-60.80851</td><td>-76.48864</td></tr>\n",
       "\t<tr><th scope=row>12.26-6.72</th><td>12.26-6.72</td><td>12.26</td><td> 6.72</td><td> 98.0</td><td> 90</td><td>-57.22523</td><td>-50.56180</td><td>-58.85393</td><td>-56.63636</td><td>-46.17708</td><td>-68.72449</td></tr>\n",
       "\t<tr><th scope=row>12.55-7.38</th><td>12.55-7.38</td><td>12.55</td><td> 7.38</td><td> 20.9</td><td>  0</td><td>-59.17273</td><td>-52.32941</td><td>-58.08791</td><td>-62.24038</td><td>-51.67327</td><td>-68.34940</td></tr>\n",
       "\t<tr><th scope=row>12.95-5.25</th><td>12.95-5.25</td><td>12.95</td><td> 5.25</td><td>120.5</td><td>135</td><td>-72.74775</td><td>-47.92929</td><td>-56.78161</td><td>-57.38261</td><td>-58.03191</td><td>-69.42857</td></tr>\n",
       "\t<tr><th scope=row>14.98-7.55</th><td>14.98-7.55</td><td>14.98</td><td> 7.55</td><td> 94.4</td><td> 90</td><td>-65.28182</td><td>-53.54902</td><td>-53.06122</td><td>-66.53659</td><td>-44.18085</td><td>-77.11111</td></tr>\n",
       "\t<tr><th scope=row>16.44-7.45</th><td>16.44-7.45</td><td>16.44</td><td> 7.45</td><td>264.6</td><td>270</td><td>-68.76364</td><td>-58.18824</td><td>-52.74725</td><td>-58.28261</td><td>-45.52222</td><td>-68.65934</td></tr>\n",
       "\t<tr><th scope=row>2.02-7.45</th><td>2.02-7.45 </td><td> 2.02</td><td> 7.45</td><td> 94.3</td><td> 90</td><td>-63.12727</td><td>-66.21212</td><td>-66.16667</td><td>-48.09346</td><td>-57.96703</td><td>-58.68817</td></tr>\n",
       "\t<tr><th scope=row>2.49-7.6</th><td>2.49-7.6  </td><td> 2.49</td><td> 7.60</td><td>316.7</td><td>315</td><td>-69.53704</td><td>-65.31522</td><td>-67.35955</td><td>-43.86111</td><td>-62.64444</td><td>-44.71698</td></tr>\n",
       "\t<tr><th scope=row>21.23-5.47</th><td>21.23-5.47</td><td>21.23</td><td> 5.47</td><td>115.8</td><td>135</td><td>-80.01770</td><td>-62.32653</td><td>-50.75000</td><td>-62.22105</td><td>-50.95506</td><td>-79.14130</td></tr>\n",
       "\t<tr><th scope=row>21.3-3.8</th><td>21.3-3.8  </td><td>21.30</td><td> 3.80</td><td>120.1</td><td>135</td><td>-77.18182</td><td>-61.67816</td><td>-44.22222</td><td>-67.09278</td><td>-56.42222</td><td>-78.50459</td></tr>\n",
       "\t<tr><th scope=row>21.45-6.62</th><td>21.45-6.62</td><td>21.45</td><td> 6.62</td><td> 27.3</td><td> 45</td><td>-71.63636</td><td>-60.32927</td><td>-49.98667</td><td>-60.42857</td><td>-41.11364</td><td>-70.95181</td></tr>\n",
       "\t<tr><th scope=row>21.6-7.63</th><td>21.6-7.63 </td><td>21.60</td><td> 7.63</td><td>192.0</td><td>180</td><td>-75.20000</td><td>-61.39773</td><td>-52.94186</td><td>-72.88043</td><td>-50.27473</td><td>-80.23913</td></tr>\n",
       "\t<tr><th scope=row>21.98-7.46</th><td>21.98-7.46</td><td>21.98</td><td> 7.46</td><td>325.8</td><td>315</td><td>-66.56881</td><td>-61.76667</td><td>-53.83696</td><td>-60.47863</td><td>-52.13978</td><td>-76.55422</td></tr>\n",
       "\t<tr><th scope=row>22.3-6.36</th><td>22.3-6.36 </td><td>22.30</td><td> 6.36</td><td>123.3</td><td>135</td><td>-79.35246</td><td>-60.09091</td><td>-51.77907</td><td>-64.20652</td><td>-47.46739</td><td>-77.80460</td></tr>\n",
       "\t<tr><th scope=row>22.38-3.94</th><td>22.38-3.94</td><td>22.38</td><td> 3.94</td><td>319.3</td><td>315</td><td>-75.38679</td><td>-61.15116</td><td>-52.61798</td><td>-58.39535</td><td>-49.43678</td><td>-73.38636</td></tr>\n",
       "\t<tr><th scope=row>22.76-5.06</th><td>22.76-5.06</td><td>22.76</td><td> 5.06</td><td>251.2</td><td>270</td><td>-82.71560</td><td>-61.07609</td><td>-53.14737</td><td>-61.75269</td><td>-49.97917</td><td>-76.54444</td></tr>\n",
       "\t<tr><th scope=row>23.24-7.5</th><td>23.24-7.5 </td><td>23.24</td><td> 7.50</td><td>  7.9</td><td>  0</td><td>-79.59259</td><td>-59.52874</td><td>-53.79348</td><td>-65.22772</td><td>-56.66316</td><td>-69.67391</td></tr>\n",
       "\t<tr><th scope=row>23.36-3.4</th><td>23.36-3.4 </td><td>23.36</td><td> 3.40</td><td>309.4</td><td>315</td><td>-73.18018</td><td>-57.63830</td><td>-53.00000</td><td>-54.15741</td><td>-54.28736</td><td>-73.41860</td></tr>\n",
       "\t<tr><th scope=row>23.53-4.22</th><td>23.53-4.22</td><td>23.53</td><td> 4.22</td><td>205.2</td><td>225</td><td>-78.27885</td><td>-63.76136</td><td>-50.84706</td><td>-56.97753</td><td>-55.40698</td><td>-78.16092</td></tr>\n",
       "\t<tr><th scope=row>23.9-7</th><td>23.9-7    </td><td>23.90</td><td> 7.00</td><td>344.9</td><td>  0</td><td>-78.04762</td><td>-61.65556</td><td>-54.16495</td><td>-64.83333</td><td>-58.33735</td><td>-69.24468</td></tr>\n",
       "\t<tr><th scope=row>24.31-3.89</th><td>24.31-3.89</td><td>24.31</td><td> 3.89</td><td>301.3</td><td>315</td><td>-75.68750</td><td>-58.11702</td><td>-52.49451</td><td>-65.45652</td><td>-54.35000</td><td>-78.72449</td></tr>\n",
       "\t<tr><th scope=row>24.7-7.7</th><td>24.7-7.7  </td><td>24.70</td><td> 7.70</td><td> 87.9</td><td> 90</td><td>-76.44444</td><td>-63.43478</td><td>-56.61538</td><td>-70.97000</td><td>-44.89011</td><td>-75.44318</td></tr>\n",
       "\t<tr><th scope=row>25.23-7.78</th><td>25.23-7.78</td><td>25.23</td><td> 7.78</td><td> 10.0</td><td>  0</td><td>-75.52336</td><td>-66.38144</td><td>-53.67033</td><td>-67.12745</td><td>-47.34694</td><td>-73.71277</td></tr>\n",
       "\t<tr><th scope=row>25.76-7.34</th><td>25.76-7.34</td><td>25.76</td><td> 7.34</td><td>122.7</td><td>135</td><td>-79.20354</td><td>-68.34409</td><td>-52.56818</td><td>-63.50000</td><td>-45.03297</td><td>-77.07447</td></tr>\n",
       "\t<tr><th scope=row>26.71-7.5</th><td>26.71-7.5 </td><td>26.71</td><td> 7.50</td><td> 96.0</td><td> 90</td><td>-75.63303</td><td>-66.93827</td><td>-48.82979</td><td>-68.05556</td><td>-47.25243</td><td>-75.80460</td></tr>\n",
       "\t<tr><th scope=row>28.12-7.57</th><td>28.12-7.57</td><td>28.12</td><td> 7.57</td><td>310.2</td><td>315</td><td>-78.03670</td><td>-64.30693</td><td>-53.96739</td><td>-68.77551</td><td>-53.68421</td><td>-70.62000</td></tr>\n",
       "\t<tr><th scope=row>29.58-7.93</th><td>29.58-7.93</td><td>29.58</td><td> 7.93</td><td>314.9</td><td>315</td><td>-84.16949</td><td>-69.32143</td><td>-48.34737</td><td>-68.84000</td><td>-49.95745</td><td>-75.66667</td></tr>\n",
       "\t<tr><th scope=row>3.44-7.43</th><td>3.44-7.43 </td><td> 3.44</td><td> 7.43</td><td> 51.4</td><td> 45</td><td>-62.51852</td><td>-63.43333</td><td>-62.39535</td><td>-51.42857</td><td>-52.05941</td><td>-60.35484</td></tr>\n",
       "\t<tr><th scope=row>31.06-7.19</th><td>31.06-7.19</td><td>31.06</td><td> 7.19</td><td>247.1</td><td>225</td><td>-80.55769</td><td>-70.86585</td><td>-45.40860</td><td>-62.20652</td><td>-39.36264</td><td>-79.72619</td></tr>\n",
       "\t<tr><th scope=row>31.78-7.62</th><td>31.78-7.62</td><td>31.78</td><td> 7.62</td><td>261.5</td><td>270</td><td>-78.10000</td><td>-65.65625</td><td>-49.38824</td><td>-65.94574</td><td>-45.44944</td><td>-76.68932</td></tr>\n",
       "\t<tr><th scope=row>32.16-7.08</th><td>32.16-7.08</td><td>32.16</td><td> 7.08</td><td>110.4</td><td> 90</td><td>-82.54902</td><td>-70.26471</td><td>-44.57303</td><td>-69.33621</td><td>-37.55340</td><td>-77.05600</td></tr>\n",
       "\t<tr><th scope=row>32.54-7.08</th><td>32.54-7.08</td><td>32.54</td><td> 7.08</td><td> 50.3</td><td> 45</td><td>-79.44037</td><td>-64.98913</td><td>-53.78261</td><td>-68.54639</td><td>-32.84946</td><td>-71.63953</td></tr>\n",
       "\t<tr><th scope=row>4.51-7.63</th><td>4.51-7.63 </td><td> 4.51</td><td> 7.63</td><td>330.5</td><td>315</td><td>-64.36364</td><td>-65.48485</td><td>-65.15217</td><td>-50.73134</td><td>-62.29268</td><td>-60.14851</td></tr>\n",
       "\t<tr><th scope=row>6-7.88</th><td>6-7.88    </td><td> 6.00</td><td> 7.88</td><td>137.0</td><td>135</td><td>-66.05405</td><td>-57.37634</td><td>-58.78481</td><td>-51.07000</td><td>-54.40000</td><td>-61.91667</td></tr>\n",
       "\t<tr><th scope=row>7.48-7.36</th><td>7.48-7.36 </td><td> 7.48</td><td> 7.36</td><td>340.1</td><td>  0</td><td>-62.77477</td><td>-59.63158</td><td>-61.59574</td><td>-52.70642</td><td>-59.89362</td><td>-63.77528</td></tr>\n",
       "\t<tr><th scope=row>8.56-7.64</th><td>8.56-7.64 </td><td> 8.56</td><td> 7.64</td><td>305.1</td><td>315</td><td>-54.33333</td><td>-53.83133</td><td>-61.20652</td><td>-55.89320</td><td>-56.65217</td><td>-66.17021</td></tr>\n",
       "\t<tr><th scope=row>9.08-7.24</th><td>9.08-7.24 </td><td> 9.08</td><td> 7.24</td><td>338.0</td><td>  0</td><td>-55.54867</td><td>-53.66667</td><td>-58.09639</td><td>-59.20652</td><td>-57.08434</td><td>-65.36364</td></tr>\n",
       "\t<tr><th scope=row>9.46-7.77</th><td>9.46-7.77 </td><td> 9.46</td><td> 7.77</td><td>169.4</td><td>180</td><td>-61.36697</td><td>-49.64516</td><td>-61.18824</td><td>-60.80851</td><td>-49.34118</td><td>-71.44737</td></tr>\n",
       "\t<tr><th scope=row>9.86-3.88</th><td>9.86-3.88 </td><td> 9.86</td><td> 3.88</td><td>191.1</td><td>180</td><td>-65.50000</td><td>-44.13131</td><td>-52.63333</td><td>-55.94000</td><td>-55.94937</td><td>-65.53261</td></tr>\n",
       "</tbody>\n",
       "</table>\n"
      ],
      "text/latex": [
       "A data.frame: 60 × 11\n",
       "\\begin{tabular}{r|lllllllllll}\n",
       "  & posXY & posX & posY & orientation & angle & 00:0f:a3:39:dd:cd & 00:14:bf:3b:c7:c6 & 00:14:bf:b1:97:81 & 00:14:bf:b1:97:8a & 00:14:bf:b1:97:8d & 00:14:bf:b1:97:90\\\\\n",
       "  & <chr> & <dbl> & <dbl> & <dbl> & <dbl> & <dbl> & <dbl> & <dbl> & <dbl> & <dbl> & <dbl>\\\\\n",
       "\\hline\n",
       "\t0-0.05 & 0-0.05     &  0.00 &  0.05 & 130.5 & 135 & -63.20721 & -62.94898 & -61.81395 & -40.06897 & -63.04301 & -55.23333\\\\\n",
       "\t0.15-9.42 & 0.15-9.42  &  0.15 &  9.42 & 112.3 &  90 & -66.11712 & -73.96190 & -72.70103 & -47.81308 & -69.45455 & -46.88000\\\\\n",
       "\t0.31-11.09 & 0.31-11.09 &  0.31 & 11.09 & 230.1 & 225 & -67.05405 & -70.08247 & -70.09890 & -54.08824 & -69.13158 & -53.88660\\\\\n",
       "\t0.47-8.2 & 0.47-8.2   &  0.47 &  8.20 &   5.8 &   0 & -74.15315 & -64.25806 & -72.59770 & -45.65289 & -60.79747 & -49.58000\\\\\n",
       "\t0.78-10.94 & 0.78-10.94 &  0.78 & 10.94 & 348.3 &   0 & -71.40367 & -66.96000 & -66.80952 & -48.41379 & -65.00000 & -54.84694\\\\\n",
       "\t0.93-11.69 & 0.93-11.69 &  0.93 & 11.69 & 158.3 & 180 & -69.99074 & -70.44340 & -70.58025 & -43.66346 & -65.59302 & -47.27083\\\\\n",
       "\t1.08-12.19 & 1.08-12.19 &  1.08 & 12.19 & 229.1 & 225 & -73.43750 & -69.20192 & -67.92553 & -52.00820 & -71.58696 & -51.66667\\\\\n",
       "\t1.24-3.93 & 1.24-3.93  &  1.24 &  3.93 & 261.5 & 270 & -71.11009 & -69.62745 & -59.76136 & -38.91753 & -71.66667 & -53.23333\\\\\n",
       "\t1.39-6.61 & 1.39-6.61  &  1.39 &  6.61 & 114.1 & 135 & -59.75676 & -62.23913 & -64.56627 & -48.92381 & -60.79798 & -50.49057\\\\\n",
       "\t1.52-9.32 & 1.52-9.32  &  1.52 &  9.32 &   7.0 &   0 & -65.38318 & -63.35922 & -67.48913 & -50.04167 & -65.10345 & -49.38542\\\\\n",
       "\t1.55-0.96 & 1.55-0.96  &  1.55 &  0.96 & 337.3 & 315 & -68.06481 & -66.08989 & -57.69318 & -42.99038 & -63.52632 & -50.04000\\\\\n",
       "\t1.58-5.26 & 1.58-5.26  &  1.58 &  5.26 & 187.0 & 180 & -72.07339 & -64.66667 & -57.42708 & -40.50980 & -61.97778 & -62.48913\\\\\n",
       "\t1.71-1.81 & 1.71-1.81  &  1.71 &  1.81 &  86.6 &  90 & -65.53636 & -61.75789 & -66.12088 & -37.01000 & -64.33721 & -53.21359\\\\\n",
       "\t1.86-8.08 & 1.86-8.08  &  1.86 &  8.08 & 147.7 & 135 & -66.53153 & -62.06383 & -63.03571 & -50.58252 & -51.38462 & -49.96078\\\\\n",
       "\t10.23-6.88 & 10.23-6.88 & 10.23 &  6.88 & 221.6 & 225 & -57.65455 & -58.29474 & -59.21348 & -58.57143 & -50.10417 & -67.56098\\\\\n",
       "\t10.46-5.8 & 10.46-5.8  & 10.46 &  5.80 &  35.8 &  45 & -64.97273 & -52.60241 & -57.57895 & -58.17204 & -58.74444 & -65.31111\\\\\n",
       "\t10.62-3.87 & 10.62-3.87 & 10.62 &  3.87 &  55.2 &  45 & -66.50893 & -45.98039 & -46.01111 & -59.38333 & -61.26582 & -68.40909\\\\\n",
       "\t10.99-7.19 & 10.99-7.19 & 10.99 &  7.19 & 289.5 & 270 & -61.03571 & -49.81633 & -56.66292 & -56.38739 & -55.78161 & -66.21429\\\\\n",
       "\t11.39-5 & 11.39-5    & 11.39 &  5.00 &  89.4 &  90 & -64.31532 & -48.89011 & -59.76404 & -58.79048 & -58.35789 & -74.37079\\\\\n",
       "\t11.76-7.76 & 11.76-7.76 & 11.76 &  7.76 & 175.3 & 180 & -65.19091 & -54.76768 & -59.32967 & -57.10891 & -54.22549 & -67.06796\\\\\n",
       "\t12.16-5.25 & 12.16-5.25 & 12.16 &  5.25 &  73.0 &  90 & -69.20175 & -49.90361 & -59.13415 & -52.58621 & -56.73469 & -67.09877\\\\\n",
       "\t12.18-3.4 & 12.18-3.4  & 12.18 &  3.40 & 257.2 & 270 & -64.99091 & -45.47727 & -55.19149 & -59.09574 & -60.80851 & -76.48864\\\\\n",
       "\t12.26-6.72 & 12.26-6.72 & 12.26 &  6.72 &  98.0 &  90 & -57.22523 & -50.56180 & -58.85393 & -56.63636 & -46.17708 & -68.72449\\\\\n",
       "\t12.55-7.38 & 12.55-7.38 & 12.55 &  7.38 &  20.9 &   0 & -59.17273 & -52.32941 & -58.08791 & -62.24038 & -51.67327 & -68.34940\\\\\n",
       "\t12.95-5.25 & 12.95-5.25 & 12.95 &  5.25 & 120.5 & 135 & -72.74775 & -47.92929 & -56.78161 & -57.38261 & -58.03191 & -69.42857\\\\\n",
       "\t14.98-7.55 & 14.98-7.55 & 14.98 &  7.55 &  94.4 &  90 & -65.28182 & -53.54902 & -53.06122 & -66.53659 & -44.18085 & -77.11111\\\\\n",
       "\t16.44-7.45 & 16.44-7.45 & 16.44 &  7.45 & 264.6 & 270 & -68.76364 & -58.18824 & -52.74725 & -58.28261 & -45.52222 & -68.65934\\\\\n",
       "\t2.02-7.45 & 2.02-7.45  &  2.02 &  7.45 &  94.3 &  90 & -63.12727 & -66.21212 & -66.16667 & -48.09346 & -57.96703 & -58.68817\\\\\n",
       "\t2.49-7.6 & 2.49-7.6   &  2.49 &  7.60 & 316.7 & 315 & -69.53704 & -65.31522 & -67.35955 & -43.86111 & -62.64444 & -44.71698\\\\\n",
       "\t21.23-5.47 & 21.23-5.47 & 21.23 &  5.47 & 115.8 & 135 & -80.01770 & -62.32653 & -50.75000 & -62.22105 & -50.95506 & -79.14130\\\\\n",
       "\t21.3-3.8 & 21.3-3.8   & 21.30 &  3.80 & 120.1 & 135 & -77.18182 & -61.67816 & -44.22222 & -67.09278 & -56.42222 & -78.50459\\\\\n",
       "\t21.45-6.62 & 21.45-6.62 & 21.45 &  6.62 &  27.3 &  45 & -71.63636 & -60.32927 & -49.98667 & -60.42857 & -41.11364 & -70.95181\\\\\n",
       "\t21.6-7.63 & 21.6-7.63  & 21.60 &  7.63 & 192.0 & 180 & -75.20000 & -61.39773 & -52.94186 & -72.88043 & -50.27473 & -80.23913\\\\\n",
       "\t21.98-7.46 & 21.98-7.46 & 21.98 &  7.46 & 325.8 & 315 & -66.56881 & -61.76667 & -53.83696 & -60.47863 & -52.13978 & -76.55422\\\\\n",
       "\t22.3-6.36 & 22.3-6.36  & 22.30 &  6.36 & 123.3 & 135 & -79.35246 & -60.09091 & -51.77907 & -64.20652 & -47.46739 & -77.80460\\\\\n",
       "\t22.38-3.94 & 22.38-3.94 & 22.38 &  3.94 & 319.3 & 315 & -75.38679 & -61.15116 & -52.61798 & -58.39535 & -49.43678 & -73.38636\\\\\n",
       "\t22.76-5.06 & 22.76-5.06 & 22.76 &  5.06 & 251.2 & 270 & -82.71560 & -61.07609 & -53.14737 & -61.75269 & -49.97917 & -76.54444\\\\\n",
       "\t23.24-7.5 & 23.24-7.5  & 23.24 &  7.50 &   7.9 &   0 & -79.59259 & -59.52874 & -53.79348 & -65.22772 & -56.66316 & -69.67391\\\\\n",
       "\t23.36-3.4 & 23.36-3.4  & 23.36 &  3.40 & 309.4 & 315 & -73.18018 & -57.63830 & -53.00000 & -54.15741 & -54.28736 & -73.41860\\\\\n",
       "\t23.53-4.22 & 23.53-4.22 & 23.53 &  4.22 & 205.2 & 225 & -78.27885 & -63.76136 & -50.84706 & -56.97753 & -55.40698 & -78.16092\\\\\n",
       "\t23.9-7 & 23.9-7     & 23.90 &  7.00 & 344.9 &   0 & -78.04762 & -61.65556 & -54.16495 & -64.83333 & -58.33735 & -69.24468\\\\\n",
       "\t24.31-3.89 & 24.31-3.89 & 24.31 &  3.89 & 301.3 & 315 & -75.68750 & -58.11702 & -52.49451 & -65.45652 & -54.35000 & -78.72449\\\\\n",
       "\t24.7-7.7 & 24.7-7.7   & 24.70 &  7.70 &  87.9 &  90 & -76.44444 & -63.43478 & -56.61538 & -70.97000 & -44.89011 & -75.44318\\\\\n",
       "\t25.23-7.78 & 25.23-7.78 & 25.23 &  7.78 &  10.0 &   0 & -75.52336 & -66.38144 & -53.67033 & -67.12745 & -47.34694 & -73.71277\\\\\n",
       "\t25.76-7.34 & 25.76-7.34 & 25.76 &  7.34 & 122.7 & 135 & -79.20354 & -68.34409 & -52.56818 & -63.50000 & -45.03297 & -77.07447\\\\\n",
       "\t26.71-7.5 & 26.71-7.5  & 26.71 &  7.50 &  96.0 &  90 & -75.63303 & -66.93827 & -48.82979 & -68.05556 & -47.25243 & -75.80460\\\\\n",
       "\t28.12-7.57 & 28.12-7.57 & 28.12 &  7.57 & 310.2 & 315 & -78.03670 & -64.30693 & -53.96739 & -68.77551 & -53.68421 & -70.62000\\\\\n",
       "\t29.58-7.93 & 29.58-7.93 & 29.58 &  7.93 & 314.9 & 315 & -84.16949 & -69.32143 & -48.34737 & -68.84000 & -49.95745 & -75.66667\\\\\n",
       "\t3.44-7.43 & 3.44-7.43  &  3.44 &  7.43 &  51.4 &  45 & -62.51852 & -63.43333 & -62.39535 & -51.42857 & -52.05941 & -60.35484\\\\\n",
       "\t31.06-7.19 & 31.06-7.19 & 31.06 &  7.19 & 247.1 & 225 & -80.55769 & -70.86585 & -45.40860 & -62.20652 & -39.36264 & -79.72619\\\\\n",
       "\t31.78-7.62 & 31.78-7.62 & 31.78 &  7.62 & 261.5 & 270 & -78.10000 & -65.65625 & -49.38824 & -65.94574 & -45.44944 & -76.68932\\\\\n",
       "\t32.16-7.08 & 32.16-7.08 & 32.16 &  7.08 & 110.4 &  90 & -82.54902 & -70.26471 & -44.57303 & -69.33621 & -37.55340 & -77.05600\\\\\n",
       "\t32.54-7.08 & 32.54-7.08 & 32.54 &  7.08 &  50.3 &  45 & -79.44037 & -64.98913 & -53.78261 & -68.54639 & -32.84946 & -71.63953\\\\\n",
       "\t4.51-7.63 & 4.51-7.63  &  4.51 &  7.63 & 330.5 & 315 & -64.36364 & -65.48485 & -65.15217 & -50.73134 & -62.29268 & -60.14851\\\\\n",
       "\t6-7.88 & 6-7.88     &  6.00 &  7.88 & 137.0 & 135 & -66.05405 & -57.37634 & -58.78481 & -51.07000 & -54.40000 & -61.91667\\\\\n",
       "\t7.48-7.36 & 7.48-7.36  &  7.48 &  7.36 & 340.1 &   0 & -62.77477 & -59.63158 & -61.59574 & -52.70642 & -59.89362 & -63.77528\\\\\n",
       "\t8.56-7.64 & 8.56-7.64  &  8.56 &  7.64 & 305.1 & 315 & -54.33333 & -53.83133 & -61.20652 & -55.89320 & -56.65217 & -66.17021\\\\\n",
       "\t9.08-7.24 & 9.08-7.24  &  9.08 &  7.24 & 338.0 &   0 & -55.54867 & -53.66667 & -58.09639 & -59.20652 & -57.08434 & -65.36364\\\\\n",
       "\t9.46-7.77 & 9.46-7.77  &  9.46 &  7.77 & 169.4 & 180 & -61.36697 & -49.64516 & -61.18824 & -60.80851 & -49.34118 & -71.44737\\\\\n",
       "\t9.86-3.88 & 9.86-3.88  &  9.86 &  3.88 & 191.1 & 180 & -65.50000 & -44.13131 & -52.63333 & -55.94000 & -55.94937 & -65.53261\\\\\n",
       "\\end{tabular}\n"
      ],
      "text/markdown": [
       "\n",
       "A data.frame: 60 × 11\n",
       "\n",
       "| <!--/--> | posXY &lt;chr&gt; | posX &lt;dbl&gt; | posY &lt;dbl&gt; | orientation &lt;dbl&gt; | angle &lt;dbl&gt; | 00:0f:a3:39:dd:cd &lt;dbl&gt; | 00:14:bf:3b:c7:c6 &lt;dbl&gt; | 00:14:bf:b1:97:81 &lt;dbl&gt; | 00:14:bf:b1:97:8a &lt;dbl&gt; | 00:14:bf:b1:97:8d &lt;dbl&gt; | 00:14:bf:b1:97:90 &lt;dbl&gt; |\n",
       "|---|---|---|---|---|---|---|---|---|---|---|---|\n",
       "| 0-0.05 | 0-0.05     |  0.00 |  0.05 | 130.5 | 135 | -63.20721 | -62.94898 | -61.81395 | -40.06897 | -63.04301 | -55.23333 |\n",
       "| 0.15-9.42 | 0.15-9.42  |  0.15 |  9.42 | 112.3 |  90 | -66.11712 | -73.96190 | -72.70103 | -47.81308 | -69.45455 | -46.88000 |\n",
       "| 0.31-11.09 | 0.31-11.09 |  0.31 | 11.09 | 230.1 | 225 | -67.05405 | -70.08247 | -70.09890 | -54.08824 | -69.13158 | -53.88660 |\n",
       "| 0.47-8.2 | 0.47-8.2   |  0.47 |  8.20 |   5.8 |   0 | -74.15315 | -64.25806 | -72.59770 | -45.65289 | -60.79747 | -49.58000 |\n",
       "| 0.78-10.94 | 0.78-10.94 |  0.78 | 10.94 | 348.3 |   0 | -71.40367 | -66.96000 | -66.80952 | -48.41379 | -65.00000 | -54.84694 |\n",
       "| 0.93-11.69 | 0.93-11.69 |  0.93 | 11.69 | 158.3 | 180 | -69.99074 | -70.44340 | -70.58025 | -43.66346 | -65.59302 | -47.27083 |\n",
       "| 1.08-12.19 | 1.08-12.19 |  1.08 | 12.19 | 229.1 | 225 | -73.43750 | -69.20192 | -67.92553 | -52.00820 | -71.58696 | -51.66667 |\n",
       "| 1.24-3.93 | 1.24-3.93  |  1.24 |  3.93 | 261.5 | 270 | -71.11009 | -69.62745 | -59.76136 | -38.91753 | -71.66667 | -53.23333 |\n",
       "| 1.39-6.61 | 1.39-6.61  |  1.39 |  6.61 | 114.1 | 135 | -59.75676 | -62.23913 | -64.56627 | -48.92381 | -60.79798 | -50.49057 |\n",
       "| 1.52-9.32 | 1.52-9.32  |  1.52 |  9.32 |   7.0 |   0 | -65.38318 | -63.35922 | -67.48913 | -50.04167 | -65.10345 | -49.38542 |\n",
       "| 1.55-0.96 | 1.55-0.96  |  1.55 |  0.96 | 337.3 | 315 | -68.06481 | -66.08989 | -57.69318 | -42.99038 | -63.52632 | -50.04000 |\n",
       "| 1.58-5.26 | 1.58-5.26  |  1.58 |  5.26 | 187.0 | 180 | -72.07339 | -64.66667 | -57.42708 | -40.50980 | -61.97778 | -62.48913 |\n",
       "| 1.71-1.81 | 1.71-1.81  |  1.71 |  1.81 |  86.6 |  90 | -65.53636 | -61.75789 | -66.12088 | -37.01000 | -64.33721 | -53.21359 |\n",
       "| 1.86-8.08 | 1.86-8.08  |  1.86 |  8.08 | 147.7 | 135 | -66.53153 | -62.06383 | -63.03571 | -50.58252 | -51.38462 | -49.96078 |\n",
       "| 10.23-6.88 | 10.23-6.88 | 10.23 |  6.88 | 221.6 | 225 | -57.65455 | -58.29474 | -59.21348 | -58.57143 | -50.10417 | -67.56098 |\n",
       "| 10.46-5.8 | 10.46-5.8  | 10.46 |  5.80 |  35.8 |  45 | -64.97273 | -52.60241 | -57.57895 | -58.17204 | -58.74444 | -65.31111 |\n",
       "| 10.62-3.87 | 10.62-3.87 | 10.62 |  3.87 |  55.2 |  45 | -66.50893 | -45.98039 | -46.01111 | -59.38333 | -61.26582 | -68.40909 |\n",
       "| 10.99-7.19 | 10.99-7.19 | 10.99 |  7.19 | 289.5 | 270 | -61.03571 | -49.81633 | -56.66292 | -56.38739 | -55.78161 | -66.21429 |\n",
       "| 11.39-5 | 11.39-5    | 11.39 |  5.00 |  89.4 |  90 | -64.31532 | -48.89011 | -59.76404 | -58.79048 | -58.35789 | -74.37079 |\n",
       "| 11.76-7.76 | 11.76-7.76 | 11.76 |  7.76 | 175.3 | 180 | -65.19091 | -54.76768 | -59.32967 | -57.10891 | -54.22549 | -67.06796 |\n",
       "| 12.16-5.25 | 12.16-5.25 | 12.16 |  5.25 |  73.0 |  90 | -69.20175 | -49.90361 | -59.13415 | -52.58621 | -56.73469 | -67.09877 |\n",
       "| 12.18-3.4 | 12.18-3.4  | 12.18 |  3.40 | 257.2 | 270 | -64.99091 | -45.47727 | -55.19149 | -59.09574 | -60.80851 | -76.48864 |\n",
       "| 12.26-6.72 | 12.26-6.72 | 12.26 |  6.72 |  98.0 |  90 | -57.22523 | -50.56180 | -58.85393 | -56.63636 | -46.17708 | -68.72449 |\n",
       "| 12.55-7.38 | 12.55-7.38 | 12.55 |  7.38 |  20.9 |   0 | -59.17273 | -52.32941 | -58.08791 | -62.24038 | -51.67327 | -68.34940 |\n",
       "| 12.95-5.25 | 12.95-5.25 | 12.95 |  5.25 | 120.5 | 135 | -72.74775 | -47.92929 | -56.78161 | -57.38261 | -58.03191 | -69.42857 |\n",
       "| 14.98-7.55 | 14.98-7.55 | 14.98 |  7.55 |  94.4 |  90 | -65.28182 | -53.54902 | -53.06122 | -66.53659 | -44.18085 | -77.11111 |\n",
       "| 16.44-7.45 | 16.44-7.45 | 16.44 |  7.45 | 264.6 | 270 | -68.76364 | -58.18824 | -52.74725 | -58.28261 | -45.52222 | -68.65934 |\n",
       "| 2.02-7.45 | 2.02-7.45  |  2.02 |  7.45 |  94.3 |  90 | -63.12727 | -66.21212 | -66.16667 | -48.09346 | -57.96703 | -58.68817 |\n",
       "| 2.49-7.6 | 2.49-7.6   |  2.49 |  7.60 | 316.7 | 315 | -69.53704 | -65.31522 | -67.35955 | -43.86111 | -62.64444 | -44.71698 |\n",
       "| 21.23-5.47 | 21.23-5.47 | 21.23 |  5.47 | 115.8 | 135 | -80.01770 | -62.32653 | -50.75000 | -62.22105 | -50.95506 | -79.14130 |\n",
       "| 21.3-3.8 | 21.3-3.8   | 21.30 |  3.80 | 120.1 | 135 | -77.18182 | -61.67816 | -44.22222 | -67.09278 | -56.42222 | -78.50459 |\n",
       "| 21.45-6.62 | 21.45-6.62 | 21.45 |  6.62 |  27.3 |  45 | -71.63636 | -60.32927 | -49.98667 | -60.42857 | -41.11364 | -70.95181 |\n",
       "| 21.6-7.63 | 21.6-7.63  | 21.60 |  7.63 | 192.0 | 180 | -75.20000 | -61.39773 | -52.94186 | -72.88043 | -50.27473 | -80.23913 |\n",
       "| 21.98-7.46 | 21.98-7.46 | 21.98 |  7.46 | 325.8 | 315 | -66.56881 | -61.76667 | -53.83696 | -60.47863 | -52.13978 | -76.55422 |\n",
       "| 22.3-6.36 | 22.3-6.36  | 22.30 |  6.36 | 123.3 | 135 | -79.35246 | -60.09091 | -51.77907 | -64.20652 | -47.46739 | -77.80460 |\n",
       "| 22.38-3.94 | 22.38-3.94 | 22.38 |  3.94 | 319.3 | 315 | -75.38679 | -61.15116 | -52.61798 | -58.39535 | -49.43678 | -73.38636 |\n",
       "| 22.76-5.06 | 22.76-5.06 | 22.76 |  5.06 | 251.2 | 270 | -82.71560 | -61.07609 | -53.14737 | -61.75269 | -49.97917 | -76.54444 |\n",
       "| 23.24-7.5 | 23.24-7.5  | 23.24 |  7.50 |   7.9 |   0 | -79.59259 | -59.52874 | -53.79348 | -65.22772 | -56.66316 | -69.67391 |\n",
       "| 23.36-3.4 | 23.36-3.4  | 23.36 |  3.40 | 309.4 | 315 | -73.18018 | -57.63830 | -53.00000 | -54.15741 | -54.28736 | -73.41860 |\n",
       "| 23.53-4.22 | 23.53-4.22 | 23.53 |  4.22 | 205.2 | 225 | -78.27885 | -63.76136 | -50.84706 | -56.97753 | -55.40698 | -78.16092 |\n",
       "| 23.9-7 | 23.9-7     | 23.90 |  7.00 | 344.9 |   0 | -78.04762 | -61.65556 | -54.16495 | -64.83333 | -58.33735 | -69.24468 |\n",
       "| 24.31-3.89 | 24.31-3.89 | 24.31 |  3.89 | 301.3 | 315 | -75.68750 | -58.11702 | -52.49451 | -65.45652 | -54.35000 | -78.72449 |\n",
       "| 24.7-7.7 | 24.7-7.7   | 24.70 |  7.70 |  87.9 |  90 | -76.44444 | -63.43478 | -56.61538 | -70.97000 | -44.89011 | -75.44318 |\n",
       "| 25.23-7.78 | 25.23-7.78 | 25.23 |  7.78 |  10.0 |   0 | -75.52336 | -66.38144 | -53.67033 | -67.12745 | -47.34694 | -73.71277 |\n",
       "| 25.76-7.34 | 25.76-7.34 | 25.76 |  7.34 | 122.7 | 135 | -79.20354 | -68.34409 | -52.56818 | -63.50000 | -45.03297 | -77.07447 |\n",
       "| 26.71-7.5 | 26.71-7.5  | 26.71 |  7.50 |  96.0 |  90 | -75.63303 | -66.93827 | -48.82979 | -68.05556 | -47.25243 | -75.80460 |\n",
       "| 28.12-7.57 | 28.12-7.57 | 28.12 |  7.57 | 310.2 | 315 | -78.03670 | -64.30693 | -53.96739 | -68.77551 | -53.68421 | -70.62000 |\n",
       "| 29.58-7.93 | 29.58-7.93 | 29.58 |  7.93 | 314.9 | 315 | -84.16949 | -69.32143 | -48.34737 | -68.84000 | -49.95745 | -75.66667 |\n",
       "| 3.44-7.43 | 3.44-7.43  |  3.44 |  7.43 |  51.4 |  45 | -62.51852 | -63.43333 | -62.39535 | -51.42857 | -52.05941 | -60.35484 |\n",
       "| 31.06-7.19 | 31.06-7.19 | 31.06 |  7.19 | 247.1 | 225 | -80.55769 | -70.86585 | -45.40860 | -62.20652 | -39.36264 | -79.72619 |\n",
       "| 31.78-7.62 | 31.78-7.62 | 31.78 |  7.62 | 261.5 | 270 | -78.10000 | -65.65625 | -49.38824 | -65.94574 | -45.44944 | -76.68932 |\n",
       "| 32.16-7.08 | 32.16-7.08 | 32.16 |  7.08 | 110.4 |  90 | -82.54902 | -70.26471 | -44.57303 | -69.33621 | -37.55340 | -77.05600 |\n",
       "| 32.54-7.08 | 32.54-7.08 | 32.54 |  7.08 |  50.3 |  45 | -79.44037 | -64.98913 | -53.78261 | -68.54639 | -32.84946 | -71.63953 |\n",
       "| 4.51-7.63 | 4.51-7.63  |  4.51 |  7.63 | 330.5 | 315 | -64.36364 | -65.48485 | -65.15217 | -50.73134 | -62.29268 | -60.14851 |\n",
       "| 6-7.88 | 6-7.88     |  6.00 |  7.88 | 137.0 | 135 | -66.05405 | -57.37634 | -58.78481 | -51.07000 | -54.40000 | -61.91667 |\n",
       "| 7.48-7.36 | 7.48-7.36  |  7.48 |  7.36 | 340.1 |   0 | -62.77477 | -59.63158 | -61.59574 | -52.70642 | -59.89362 | -63.77528 |\n",
       "| 8.56-7.64 | 8.56-7.64  |  8.56 |  7.64 | 305.1 | 315 | -54.33333 | -53.83133 | -61.20652 | -55.89320 | -56.65217 | -66.17021 |\n",
       "| 9.08-7.24 | 9.08-7.24  |  9.08 |  7.24 | 338.0 |   0 | -55.54867 | -53.66667 | -58.09639 | -59.20652 | -57.08434 | -65.36364 |\n",
       "| 9.46-7.77 | 9.46-7.77  |  9.46 |  7.77 | 169.4 | 180 | -61.36697 | -49.64516 | -61.18824 | -60.80851 | -49.34118 | -71.44737 |\n",
       "| 9.86-3.88 | 9.86-3.88  |  9.86 |  3.88 | 191.1 | 180 | -65.50000 | -44.13131 | -52.63333 | -55.94000 | -55.94937 | -65.53261 |\n",
       "\n"
      ],
      "text/plain": [
       "           posXY      posX  posY  orientation angle 00:0f:a3:39:dd:cd\n",
       "0-0.05     0-0.05      0.00  0.05 130.5       135   -63.20721        \n",
       "0.15-9.42  0.15-9.42   0.15  9.42 112.3        90   -66.11712        \n",
       "0.31-11.09 0.31-11.09  0.31 11.09 230.1       225   -67.05405        \n",
       "0.47-8.2   0.47-8.2    0.47  8.20   5.8         0   -74.15315        \n",
       "0.78-10.94 0.78-10.94  0.78 10.94 348.3         0   -71.40367        \n",
       "0.93-11.69 0.93-11.69  0.93 11.69 158.3       180   -69.99074        \n",
       "1.08-12.19 1.08-12.19  1.08 12.19 229.1       225   -73.43750        \n",
       "1.24-3.93  1.24-3.93   1.24  3.93 261.5       270   -71.11009        \n",
       "1.39-6.61  1.39-6.61   1.39  6.61 114.1       135   -59.75676        \n",
       "1.52-9.32  1.52-9.32   1.52  9.32   7.0         0   -65.38318        \n",
       "1.55-0.96  1.55-0.96   1.55  0.96 337.3       315   -68.06481        \n",
       "1.58-5.26  1.58-5.26   1.58  5.26 187.0       180   -72.07339        \n",
       "1.71-1.81  1.71-1.81   1.71  1.81  86.6        90   -65.53636        \n",
       "1.86-8.08  1.86-8.08   1.86  8.08 147.7       135   -66.53153        \n",
       "10.23-6.88 10.23-6.88 10.23  6.88 221.6       225   -57.65455        \n",
       "10.46-5.8  10.46-5.8  10.46  5.80  35.8        45   -64.97273        \n",
       "10.62-3.87 10.62-3.87 10.62  3.87  55.2        45   -66.50893        \n",
       "10.99-7.19 10.99-7.19 10.99  7.19 289.5       270   -61.03571        \n",
       "11.39-5    11.39-5    11.39  5.00  89.4        90   -64.31532        \n",
       "11.76-7.76 11.76-7.76 11.76  7.76 175.3       180   -65.19091        \n",
       "12.16-5.25 12.16-5.25 12.16  5.25  73.0        90   -69.20175        \n",
       "12.18-3.4  12.18-3.4  12.18  3.40 257.2       270   -64.99091        \n",
       "12.26-6.72 12.26-6.72 12.26  6.72  98.0        90   -57.22523        \n",
       "12.55-7.38 12.55-7.38 12.55  7.38  20.9         0   -59.17273        \n",
       "12.95-5.25 12.95-5.25 12.95  5.25 120.5       135   -72.74775        \n",
       "14.98-7.55 14.98-7.55 14.98  7.55  94.4        90   -65.28182        \n",
       "16.44-7.45 16.44-7.45 16.44  7.45 264.6       270   -68.76364        \n",
       "2.02-7.45  2.02-7.45   2.02  7.45  94.3        90   -63.12727        \n",
       "2.49-7.6   2.49-7.6    2.49  7.60 316.7       315   -69.53704        \n",
       "21.23-5.47 21.23-5.47 21.23  5.47 115.8       135   -80.01770        \n",
       "21.3-3.8   21.3-3.8   21.30  3.80 120.1       135   -77.18182        \n",
       "21.45-6.62 21.45-6.62 21.45  6.62  27.3        45   -71.63636        \n",
       "21.6-7.63  21.6-7.63  21.60  7.63 192.0       180   -75.20000        \n",
       "21.98-7.46 21.98-7.46 21.98  7.46 325.8       315   -66.56881        \n",
       "22.3-6.36  22.3-6.36  22.30  6.36 123.3       135   -79.35246        \n",
       "22.38-3.94 22.38-3.94 22.38  3.94 319.3       315   -75.38679        \n",
       "22.76-5.06 22.76-5.06 22.76  5.06 251.2       270   -82.71560        \n",
       "23.24-7.5  23.24-7.5  23.24  7.50   7.9         0   -79.59259        \n",
       "23.36-3.4  23.36-3.4  23.36  3.40 309.4       315   -73.18018        \n",
       "23.53-4.22 23.53-4.22 23.53  4.22 205.2       225   -78.27885        \n",
       "23.9-7     23.9-7     23.90  7.00 344.9         0   -78.04762        \n",
       "24.31-3.89 24.31-3.89 24.31  3.89 301.3       315   -75.68750        \n",
       "24.7-7.7   24.7-7.7   24.70  7.70  87.9        90   -76.44444        \n",
       "25.23-7.78 25.23-7.78 25.23  7.78  10.0         0   -75.52336        \n",
       "25.76-7.34 25.76-7.34 25.76  7.34 122.7       135   -79.20354        \n",
       "26.71-7.5  26.71-7.5  26.71  7.50  96.0        90   -75.63303        \n",
       "28.12-7.57 28.12-7.57 28.12  7.57 310.2       315   -78.03670        \n",
       "29.58-7.93 29.58-7.93 29.58  7.93 314.9       315   -84.16949        \n",
       "3.44-7.43  3.44-7.43   3.44  7.43  51.4        45   -62.51852        \n",
       "31.06-7.19 31.06-7.19 31.06  7.19 247.1       225   -80.55769        \n",
       "31.78-7.62 31.78-7.62 31.78  7.62 261.5       270   -78.10000        \n",
       "32.16-7.08 32.16-7.08 32.16  7.08 110.4        90   -82.54902        \n",
       "32.54-7.08 32.54-7.08 32.54  7.08  50.3        45   -79.44037        \n",
       "4.51-7.63  4.51-7.63   4.51  7.63 330.5       315   -64.36364        \n",
       "6-7.88     6-7.88      6.00  7.88 137.0       135   -66.05405        \n",
       "7.48-7.36  7.48-7.36   7.48  7.36 340.1         0   -62.77477        \n",
       "8.56-7.64  8.56-7.64   8.56  7.64 305.1       315   -54.33333        \n",
       "9.08-7.24  9.08-7.24   9.08  7.24 338.0         0   -55.54867        \n",
       "9.46-7.77  9.46-7.77   9.46  7.77 169.4       180   -61.36697        \n",
       "9.86-3.88  9.86-3.88   9.86  3.88 191.1       180   -65.50000        \n",
       "           00:14:bf:3b:c7:c6 00:14:bf:b1:97:81 00:14:bf:b1:97:8a\n",
       "0-0.05     -62.94898         -61.81395         -40.06897        \n",
       "0.15-9.42  -73.96190         -72.70103         -47.81308        \n",
       "0.31-11.09 -70.08247         -70.09890         -54.08824        \n",
       "0.47-8.2   -64.25806         -72.59770         -45.65289        \n",
       "0.78-10.94 -66.96000         -66.80952         -48.41379        \n",
       "0.93-11.69 -70.44340         -70.58025         -43.66346        \n",
       "1.08-12.19 -69.20192         -67.92553         -52.00820        \n",
       "1.24-3.93  -69.62745         -59.76136         -38.91753        \n",
       "1.39-6.61  -62.23913         -64.56627         -48.92381        \n",
       "1.52-9.32  -63.35922         -67.48913         -50.04167        \n",
       "1.55-0.96  -66.08989         -57.69318         -42.99038        \n",
       "1.58-5.26  -64.66667         -57.42708         -40.50980        \n",
       "1.71-1.81  -61.75789         -66.12088         -37.01000        \n",
       "1.86-8.08  -62.06383         -63.03571         -50.58252        \n",
       "10.23-6.88 -58.29474         -59.21348         -58.57143        \n",
       "10.46-5.8  -52.60241         -57.57895         -58.17204        \n",
       "10.62-3.87 -45.98039         -46.01111         -59.38333        \n",
       "10.99-7.19 -49.81633         -56.66292         -56.38739        \n",
       "11.39-5    -48.89011         -59.76404         -58.79048        \n",
       "11.76-7.76 -54.76768         -59.32967         -57.10891        \n",
       "12.16-5.25 -49.90361         -59.13415         -52.58621        \n",
       "12.18-3.4  -45.47727         -55.19149         -59.09574        \n",
       "12.26-6.72 -50.56180         -58.85393         -56.63636        \n",
       "12.55-7.38 -52.32941         -58.08791         -62.24038        \n",
       "12.95-5.25 -47.92929         -56.78161         -57.38261        \n",
       "14.98-7.55 -53.54902         -53.06122         -66.53659        \n",
       "16.44-7.45 -58.18824         -52.74725         -58.28261        \n",
       "2.02-7.45  -66.21212         -66.16667         -48.09346        \n",
       "2.49-7.6   -65.31522         -67.35955         -43.86111        \n",
       "21.23-5.47 -62.32653         -50.75000         -62.22105        \n",
       "21.3-3.8   -61.67816         -44.22222         -67.09278        \n",
       "21.45-6.62 -60.32927         -49.98667         -60.42857        \n",
       "21.6-7.63  -61.39773         -52.94186         -72.88043        \n",
       "21.98-7.46 -61.76667         -53.83696         -60.47863        \n",
       "22.3-6.36  -60.09091         -51.77907         -64.20652        \n",
       "22.38-3.94 -61.15116         -52.61798         -58.39535        \n",
       "22.76-5.06 -61.07609         -53.14737         -61.75269        \n",
       "23.24-7.5  -59.52874         -53.79348         -65.22772        \n",
       "23.36-3.4  -57.63830         -53.00000         -54.15741        \n",
       "23.53-4.22 -63.76136         -50.84706         -56.97753        \n",
       "23.9-7     -61.65556         -54.16495         -64.83333        \n",
       "24.31-3.89 -58.11702         -52.49451         -65.45652        \n",
       "24.7-7.7   -63.43478         -56.61538         -70.97000        \n",
       "25.23-7.78 -66.38144         -53.67033         -67.12745        \n",
       "25.76-7.34 -68.34409         -52.56818         -63.50000        \n",
       "26.71-7.5  -66.93827         -48.82979         -68.05556        \n",
       "28.12-7.57 -64.30693         -53.96739         -68.77551        \n",
       "29.58-7.93 -69.32143         -48.34737         -68.84000        \n",
       "3.44-7.43  -63.43333         -62.39535         -51.42857        \n",
       "31.06-7.19 -70.86585         -45.40860         -62.20652        \n",
       "31.78-7.62 -65.65625         -49.38824         -65.94574        \n",
       "32.16-7.08 -70.26471         -44.57303         -69.33621        \n",
       "32.54-7.08 -64.98913         -53.78261         -68.54639        \n",
       "4.51-7.63  -65.48485         -65.15217         -50.73134        \n",
       "6-7.88     -57.37634         -58.78481         -51.07000        \n",
       "7.48-7.36  -59.63158         -61.59574         -52.70642        \n",
       "8.56-7.64  -53.83133         -61.20652         -55.89320        \n",
       "9.08-7.24  -53.66667         -58.09639         -59.20652        \n",
       "9.46-7.77  -49.64516         -61.18824         -60.80851        \n",
       "9.86-3.88  -44.13131         -52.63333         -55.94000        \n",
       "           00:14:bf:b1:97:8d 00:14:bf:b1:97:90\n",
       "0-0.05     -63.04301         -55.23333        \n",
       "0.15-9.42  -69.45455         -46.88000        \n",
       "0.31-11.09 -69.13158         -53.88660        \n",
       "0.47-8.2   -60.79747         -49.58000        \n",
       "0.78-10.94 -65.00000         -54.84694        \n",
       "0.93-11.69 -65.59302         -47.27083        \n",
       "1.08-12.19 -71.58696         -51.66667        \n",
       "1.24-3.93  -71.66667         -53.23333        \n",
       "1.39-6.61  -60.79798         -50.49057        \n",
       "1.52-9.32  -65.10345         -49.38542        \n",
       "1.55-0.96  -63.52632         -50.04000        \n",
       "1.58-5.26  -61.97778         -62.48913        \n",
       "1.71-1.81  -64.33721         -53.21359        \n",
       "1.86-8.08  -51.38462         -49.96078        \n",
       "10.23-6.88 -50.10417         -67.56098        \n",
       "10.46-5.8  -58.74444         -65.31111        \n",
       "10.62-3.87 -61.26582         -68.40909        \n",
       "10.99-7.19 -55.78161         -66.21429        \n",
       "11.39-5    -58.35789         -74.37079        \n",
       "11.76-7.76 -54.22549         -67.06796        \n",
       "12.16-5.25 -56.73469         -67.09877        \n",
       "12.18-3.4  -60.80851         -76.48864        \n",
       "12.26-6.72 -46.17708         -68.72449        \n",
       "12.55-7.38 -51.67327         -68.34940        \n",
       "12.95-5.25 -58.03191         -69.42857        \n",
       "14.98-7.55 -44.18085         -77.11111        \n",
       "16.44-7.45 -45.52222         -68.65934        \n",
       "2.02-7.45  -57.96703         -58.68817        \n",
       "2.49-7.6   -62.64444         -44.71698        \n",
       "21.23-5.47 -50.95506         -79.14130        \n",
       "21.3-3.8   -56.42222         -78.50459        \n",
       "21.45-6.62 -41.11364         -70.95181        \n",
       "21.6-7.63  -50.27473         -80.23913        \n",
       "21.98-7.46 -52.13978         -76.55422        \n",
       "22.3-6.36  -47.46739         -77.80460        \n",
       "22.38-3.94 -49.43678         -73.38636        \n",
       "22.76-5.06 -49.97917         -76.54444        \n",
       "23.24-7.5  -56.66316         -69.67391        \n",
       "23.36-3.4  -54.28736         -73.41860        \n",
       "23.53-4.22 -55.40698         -78.16092        \n",
       "23.9-7     -58.33735         -69.24468        \n",
       "24.31-3.89 -54.35000         -78.72449        \n",
       "24.7-7.7   -44.89011         -75.44318        \n",
       "25.23-7.78 -47.34694         -73.71277        \n",
       "25.76-7.34 -45.03297         -77.07447        \n",
       "26.71-7.5  -47.25243         -75.80460        \n",
       "28.12-7.57 -53.68421         -70.62000        \n",
       "29.58-7.93 -49.95745         -75.66667        \n",
       "3.44-7.43  -52.05941         -60.35484        \n",
       "31.06-7.19 -39.36264         -79.72619        \n",
       "31.78-7.62 -45.44944         -76.68932        \n",
       "32.16-7.08 -37.55340         -77.05600        \n",
       "32.54-7.08 -32.84946         -71.63953        \n",
       "4.51-7.63  -62.29268         -60.14851        \n",
       "6-7.88     -54.40000         -61.91667        \n",
       "7.48-7.36  -59.89362         -63.77528        \n",
       "8.56-7.64  -56.65217         -66.17021        \n",
       "9.08-7.24  -57.08434         -65.36364        \n",
       "9.46-7.77  -49.34118         -71.44737        \n",
       "9.86-3.88  -55.94937         -65.53261        "
      ]
     },
     "metadata": {},
     "output_type": "display_data"
    }
   ],
   "source": [
    "# option2 where we drop a macid \"'00:0f:a3:39:e1:c0'\"\n",
    "online2 = online[ online$mac != \"00:0f:a3:39:e1:c0\", ]\n",
    "\n",
    "byLoc2 = with(online2, \n",
    "             by(online2, list(posXY), \n",
    "                function(x) {\n",
    "                  ans = x[1, keepVars]\n",
    "                  avgSS = tapply(x$signal, x$mac, mean)\n",
    "                  y = matrix(avgSS, nrow = 1, ncol = 6,\n",
    "                        dimnames = list(ans$posXY, names(avgSS)))\n",
    "                  cbind(ans, y)\n",
    "                }))\n",
    "\n",
    "onlineSummary_t2 = do.call(\"rbind\", byLoc2)  \n",
    "onlineSummary_t2"
   ]
  },
  {
   "cell_type": "code",
   "execution_count": 44,
   "metadata": {},
   "outputs": [
    {
     "data": {
      "text/html": [
       "<ol class=list-inline>\n",
       "\t<li>60</li>\n",
       "\t<li>12</li>\n",
       "</ol>\n"
      ],
      "text/latex": [
       "\\begin{enumerate*}\n",
       "\\item 60\n",
       "\\item 12\n",
       "\\end{enumerate*}\n"
      ],
      "text/markdown": [
       "1. 60\n",
       "2. 12\n",
       "\n",
       "\n"
      ],
      "text/plain": [
       "[1] 60 12"
      ]
     },
     "metadata": {},
     "output_type": "display_data"
    },
    {
     "data": {
      "text/html": [
       "<ol class=list-inline>\n",
       "\t<li>'posXY'</li>\n",
       "\t<li>'posX'</li>\n",
       "\t<li>'posY'</li>\n",
       "\t<li>'orientation'</li>\n",
       "\t<li>'angle'</li>\n",
       "\t<li>'00:0f:a3:39:dd:cd'</li>\n",
       "\t<li>'00:0f:a3:39:e1:c0'</li>\n",
       "\t<li>'00:14:bf:3b:c7:c6'</li>\n",
       "\t<li>'00:14:bf:b1:97:81'</li>\n",
       "\t<li>'00:14:bf:b1:97:8a'</li>\n",
       "\t<li>'00:14:bf:b1:97:8d'</li>\n",
       "\t<li>'00:14:bf:b1:97:90'</li>\n",
       "</ol>\n"
      ],
      "text/latex": [
       "\\begin{enumerate*}\n",
       "\\item 'posXY'\n",
       "\\item 'posX'\n",
       "\\item 'posY'\n",
       "\\item 'orientation'\n",
       "\\item 'angle'\n",
       "\\item '00:0f:a3:39:dd:cd'\n",
       "\\item '00:0f:a3:39:e1:c0'\n",
       "\\item '00:14:bf:3b:c7:c6'\n",
       "\\item '00:14:bf:b1:97:81'\n",
       "\\item '00:14:bf:b1:97:8a'\n",
       "\\item '00:14:bf:b1:97:8d'\n",
       "\\item '00:14:bf:b1:97:90'\n",
       "\\end{enumerate*}\n"
      ],
      "text/markdown": [
       "1. 'posXY'\n",
       "2. 'posX'\n",
       "3. 'posY'\n",
       "4. 'orientation'\n",
       "5. 'angle'\n",
       "6. '00:0f:a3:39:dd:cd'\n",
       "7. '00:0f:a3:39:e1:c0'\n",
       "8. '00:14:bf:3b:c7:c6'\n",
       "9. '00:14:bf:b1:97:81'\n",
       "10. '00:14:bf:b1:97:8a'\n",
       "11. '00:14:bf:b1:97:8d'\n",
       "12. '00:14:bf:b1:97:90'\n",
       "\n",
       "\n"
      ],
      "text/plain": [
       " [1] \"posXY\"             \"posX\"              \"posY\"             \n",
       " [4] \"orientation\"       \"angle\"             \"00:0f:a3:39:dd:cd\"\n",
       " [7] \"00:0f:a3:39:e1:c0\" \"00:14:bf:3b:c7:c6\" \"00:14:bf:b1:97:81\"\n",
       "[10] \"00:14:bf:b1:97:8a\" \"00:14:bf:b1:97:8d\" \"00:14:bf:b1:97:90\""
      ]
     },
     "metadata": {},
     "output_type": "display_data"
    }
   ],
   "source": [
    "# create data frame and functions to aggregate/select data with similar angles\n",
    "dim(onlineSummary)\n",
    "\n",
    "names(onlineSummary)\n",
    "m = 3; angleNewObs = 230\n",
    "refs = seq(0, by = 45, length  = 8)\n",
    "nearestAngle = roundOrientation(angleNewObs)\n",
    "  \n",
    "if (m %% 2 == 1) {\n",
    "  angles = seq(-45 * (m - 1) /2, 45 * (m - 1) /2, length = m)\n",
    "} else {\n",
    "  m = m + 1\n",
    "  angles = seq(-45 * (m - 1) /2, 45 * (m - 1) /2, length = m)\n",
    "  if (sign(angleNewObs - nearestAngle) > -1) \n",
    "    angles = angles[ -1 ]\n",
    "  else \n",
    "    angles = angles[ -m ]\n",
    "}\n",
    "angles = angles + nearestAngle\n",
    "angles[angles < 0] = angles[ angles < 0 ] + 360\n",
    "angles[angles > 360] = angles[ angles > 360 ] - 360\n",
    "\n",
    "offlineSubset = \n",
    "  offlineSummary[ offlineSummary$angle %in% angles, ]\n",
    "\n",
    "reshapeSS = function(data, varSignal = \"signal\", \n",
    "                     keepVars = c(\"posXY\", \"posX\",\"posY\")) {\n",
    "  byLocation =\n",
    "    with(data, by(data, list(posXY), \n",
    "                  function(x) {\n",
    "                    ans = x[1, keepVars]\n",
    "                    avgSS = tapply(x[ , varSignal ], x$mac, mean)\n",
    "                    y = matrix(avgSS, nrow = 1, ncol = length(unique(data$mac)),\n",
    "                               dimnames = list(ans$posXY,\n",
    "                                               names(avgSS)))\n",
    "                    cbind(ans, y)\n",
    "                  }))\n",
    "\n",
    "  newDataSS = do.call(\"rbind\", byLocation)\n",
    "  return(newDataSS)\n",
    "}"
   ]
  },
  {
   "cell_type": "markdown",
   "metadata": {},
   "source": [
    "## Compose Training Data for KNN"
   ]
  },
  {
   "cell_type": "code",
   "execution_count": 45,
   "metadata": {},
   "outputs": [],
   "source": [
    "trainSS = reshapeSS(offlineSubset, varSignal = \"avgSignal\")\n",
    "\n",
    "selectTrain = function(angleNewObs, signals = NULL, m = 1){\n",
    "  # m is the number of angles to keep between 1 and 5\n",
    "  refs = seq(0, by = 45, length  = 8)\n",
    "  nearestAngle = roundOrientation(angleNewObs)\n",
    "  \n",
    "  if (m %% 2 == 1) \n",
    "    angles = seq(-45 * (m - 1) /2, 45 * (m - 1) /2, length = m)\n",
    "  else {\n",
    "    m = m + 1\n",
    "    angles = seq(-45 * (m - 1) /2, 45 * (m - 1) /2, length = m)\n",
    "    if (sign(angleNewObs - nearestAngle) > -1) \n",
    "      angles = angles[ -1 ]\n",
    "    else \n",
    "      angles = angles[ -m ]\n",
    "  }\n",
    "  angles = angles + nearestAngle\n",
    "  angles[angles < 0] = angles[ angles < 0 ] + 360\n",
    "  angles[angles > 360] = angles[ angles > 360 ] - 360\n",
    "  angles = sort(angles) \n",
    "  \n",
    "  offlineSubset = signals[ signals$angle %in% angles, ]\n",
    "  reshapeSS(offlineSubset, varSignal = \"avgSignal\")\n",
    "}\n"
   ]
  },
  {
   "cell_type": "code",
   "execution_count": 46,
   "metadata": {},
   "outputs": [],
   "source": [
    "# here is our NN function.\n",
    "findNN = function(newSignal, trainSubset) {\n",
    "  diffs = apply(trainSubset[ , 4:9], 1, \n",
    "                function(x) x - newSignal)\n",
    "  dists = apply(diffs, 2, function(x) sqrt(sum(x^2)) )\n",
    "  closest = order(dists)\n",
    "  return(trainSubset[closest, 1:3 ])\n",
    "}"
   ]
  },
  {
   "cell_type": "code",
   "execution_count": 47,
   "metadata": {},
   "outputs": [],
   "source": [
    "# predict X-Y based on the the neasest k neighbors (default 3)\n",
    "predXY = function(newSignals, newAngles, trainData, \n",
    "                  numAngles = 1, k = 3){\n",
    "  \n",
    "  closeXY = list(length = nrow(newSignals))\n",
    "  \n",
    "  for (i in 1:nrow(newSignals)) {\n",
    "    trainSS = selectTrain(newAngles[i], trainData, m = numAngles)\n",
    "    closeXY[[i]] = \n",
    "      findNN(newSignal = as.numeric(newSignals[i, ]), trainSS)\n",
    "  }\n",
    "\n",
    "  estXY = lapply(closeXY, \n",
    "                 function(x) sapply(x[ , 2:3], \n",
    "                                    function(x) mean(x[1:k])))\n",
    "  estXY = do.call(\"rbind\", estXY)\n",
    "  return(estXY)\n",
    "}\n",
    "      "
   ]
  },
  {
   "cell_type": "code",
   "execution_count": 119,
   "metadata": {},
   "outputs": [
    {
     "name": "stderr",
     "output_type": "stream",
     "text": [
      "Warning message in matrix(permuteLocs, ncol = v, nrow = floor(length(permuteLocs)/v)):\n",
      "\"data length [166] is not a sub-multiple or multiple of the number of rows [15]\"\n"
     ]
    }
   ],
   "source": [
    "options(error = recover, warn = 1)\n",
    "set.seed(42)\n",
    "\n",
    "calcError = \n",
    "function(estXY, actualXY) \n",
    "   sum( rowSums( (estXY - actualXY)^2) )\n",
    "\n",
    "actualXY = onlineSummary[ , c(\"posX\", \"posY\")]\n",
    "#sapply(list(estXYk1, estXYk3), calcError, actualXY)\n",
    "v = 11\n",
    "permuteLocs = sample(unique(offlineSummary$posXY))\n",
    "permuteLocs = matrix(permuteLocs, ncol = v, \n",
    "                     nrow = floor(length(permuteLocs)/v))\n",
    "\n",
    "onlineFold = subset(offlineSummary, posXY %in% permuteLocs[ , 1])\n",
    "\n",
    "reshapeSS = function(data, varSignal = \"signal\", \n",
    "                     keepVars = c(\"posXY\", \"posX\",\"posY\"),\n",
    "                     sampleAngle = FALSE, \n",
    "                     refs = seq(0, 315, by = 45)) {\n",
    "  set.seed(42)\n",
    "  byLocation =\n",
    "    with(data, by(data, list(posXY), \n",
    "                  function(x) {\n",
    "                    if (sampleAngle) {\n",
    "                      x = x[x$angle == sample(refs, size = 1), ]}\n",
    "                    ans = x[1, keepVars]\n",
    "                    avgSS = tapply(x[ , varSignal ], x$mac, mean)\n",
    "                    y = matrix(avgSS, nrow = 1, ncol = length(unique(data$mac)),\n",
    "                               dimnames = list(ans$posXY,\n",
    "                                               names(avgSS)))\n",
    "                    cbind(ans, y)\n",
    "                  }))\n",
    "\n",
    "  newDataSS = do.call(\"rbind\", byLocation)\n",
    "  return(newDataSS)\n",
    "}\n"
   ]
  },
  {
   "cell_type": "markdown",
   "metadata": {},
   "source": [
    "### KNN Test with K points for 3 Mac Options"
   ]
  },
  {
   "cell_type": "code",
   "execution_count": 121,
   "metadata": {},
   "outputs": [
    {
     "data": {
      "text/html": [
       "230.777777777778"
      ],
      "text/latex": [
       "230.777777777778"
      ],
      "text/markdown": [
       "230.777777777778"
      ],
      "text/plain": [
       "[1] 230.7778"
      ]
     },
     "metadata": {},
     "output_type": "display_data"
    }
   ],
   "source": [
    "#offline = offline[ offline$mac != \"00:0f:a3:39:dd:cd\", ]\n",
    "\n",
    "keepVars = c(\"posXY\", \"posX\",\"posY\", \"orientation\", \"angle\")\n",
    "\n",
    "onlineCVSummary = reshapeSS(offline, keepVars = keepVars, \n",
    "                            sampleAngle = TRUE)\n",
    "\n",
    "onlineFold = subset(onlineCVSummary, \n",
    "                    posXY %in% permuteLocs[ , 1])\n",
    "\n",
    "offlineFold = subset(offlineSummary,\n",
    "                     posXY %in% permuteLocs[ , -1])\n",
    "\n",
    "estFold = predXY(newSignals = onlineFold[ , 6:11], \n",
    "                 newAngles = onlineFold[ , 4], \n",
    "                 offlineFold, numAngles = 3, k = 3)\n",
    "\n",
    "actualFold = onlineFold[ , c(\"posX\", \"posY\")]\n",
    "calcError(estFold, actualFold)"
   ]
  },
  {
   "cell_type": "code",
   "execution_count": 123,
   "metadata": {},
   "outputs": [
    {
     "data": {
      "text/html": [
       "154.555555555556"
      ],
      "text/latex": [
       "154.555555555556"
      ],
      "text/markdown": [
       "154.555555555556"
      ],
      "text/plain": [
       "[1] 154.5556"
      ]
     },
     "metadata": {},
     "output_type": "display_data"
    }
   ],
   "source": [
    "offline_t1 = offline[ offline$mac != \"00:0f:a3:39:dd:cd\", ]\n",
    "\n",
    "onlineCVSummary_t1 = reshapeSS(offline_t1, keepVars = keepVars, \n",
    "                            sampleAngle = TRUE)\n",
    "\n",
    "onlineFold = subset(onlineCVSummary_t1, \n",
    "                    posXY %in% permuteLocs[ , 1])\n",
    "\n",
    "offlineFold = subset(offlineSummary_t1,\n",
    "                     posXY %in% permuteLocs[ , -1])\n",
    "\n",
    "estFold = predXY(newSignals = onlineFold[ , 6:11], \n",
    "                 newAngles = onlineFold[ , 4], \n",
    "                 offlineFold, numAngles = 3, k = 3)\n",
    "\n",
    "actualFold = onlineFold[ , c(\"posX\", \"posY\")]\n",
    "calcError(estFold, actualFold)"
   ]
  },
  {
   "cell_type": "code",
   "execution_count": 124,
   "metadata": {},
   "outputs": [
    {
     "data": {
      "text/html": [
       "180.333333333333"
      ],
      "text/latex": [
       "180.333333333333"
      ],
      "text/markdown": [
       "180.333333333333"
      ],
      "text/plain": [
       "[1] 180.3333"
      ]
     },
     "metadata": {},
     "output_type": "display_data"
    }
   ],
   "source": [
    "offline_t2 = offline[ offline$mac != \"00:0f:a3:39:e1:c0\", ]\n",
    "\n",
    "onlineCVSummary_t2 = reshapeSS(offline_t2, keepVars = keepVars, \n",
    "                            sampleAngle = TRUE)\n",
    "\n",
    "onlineFold = subset(onlineCVSummary_t2, \n",
    "                    posXY %in% permuteLocs[ , 1])\n",
    "\n",
    "offlineFold = subset(offlineSummary_t2,\n",
    "                     posXY %in% permuteLocs[ , -1])\n",
    "\n",
    "estFold = predXY(newSignals = onlineFold[ , 6:11], \n",
    "                 newAngles = onlineFold[ , 4], \n",
    "                 offlineFold, numAngles = 3, k = 3)\n",
    "\n",
    "actualFold = onlineFold[ , c(\"posX\", \"posY\")]\n",
    "calcError(estFold, actualFold)"
   ]
  },
  {
   "cell_type": "markdown",
   "metadata": {},
   "source": [
    "### KNN Test for 11 folds validation with 3 Mac Options"
   ]
  },
  {
   "cell_type": "code",
   "execution_count": 81,
   "metadata": {},
   "outputs": [
    {
     "data": {
      "image/png": "[encoded data removed]",
      "text/plain": [
       "plot without title"
      ]
     },
     "metadata": {
      "image/png": {
       "height": 420,
       "width": 420
      }
     },
     "output_type": "display_data"
    }
   ],
   "source": [
    "K = 20\n",
    "err = rep(0, K)\n",
    "\n",
    "for (j in 1:v) {\n",
    "  onlineFold = subset(onlineCVSummary_t2, \n",
    "                      posXY %in% permuteLocs[ , j])\n",
    "  offlineFold = subset(offlineSummary_t2,\n",
    "                       posXY %in% permuteLocs[ , -j])\n",
    "  actualFold = onlineFold[ , c(\"posX\", \"posY\")]\n",
    "  \n",
    "  for (k in 1:K) {\n",
    "    estFold = predXY(newSignals = onlineFold[ , 6:11],\n",
    "                     newAngles = onlineFold[ , 4], \n",
    "                     offlineFold, numAngles = 1, k = k)\n",
    "    err[k] = err[k] + calcError(estFold, actualFold)\n",
    "  }\n",
    "}\n",
    "\n",
    "\n",
    "plot(y = err, x = (1:K),  type = \"l\", lwd= 2,\n",
    "     ylim = c(800, 2100),\n",
    "     xlab = \"Number of Neighbors\",\n",
    "     ylab = \"Sum of Square Errors\")\n",
    "\n",
    "rmseMin = min(err)\n",
    "kMin = which(err == rmseMin)[1]\n",
    "rmseMin\n",
    "kMin\n",
    "\n",
    "segments(x0 = 0, x1 = kMin, y0 = rmseMin, col = gray(0.4), \n",
    "         lty = 2, lwd = 2)\n",
    "segments(x0 = kMin, x1 = kMin, y0 = 1100,  y1 = rmseMin, \n",
    "         col = grey(0.4), lty = 2, lwd = 2)\n",
    "\n",
    "text(x = kMin - 2, y = rmseMin + 40, \n",
    "     label = as.character(round(rmseMin)), col = grey(0.4))\n",
    "\n",
    "onlineFold = subset(onlineCVSummary_t2, \n",
    "                    posXY %in% permuteLocs[ , 1])\n",
    "\n",
    "offlineFold = subset(offlineSummary_t2,\n",
    "                     posXY %in% permuteLocs[ , -1])\n",
    "\n",
    "estFold = predXY(newSignals = onlineFold[ , 6:11], \n",
    "                 newAngles = onlineFold[ , 4], \n",
    "                 offlineFold, numAngles = 1, k = kMin)\n",
    "\n",
    "actualFold = onlineFold[ , c(\"posX\", \"posY\")]\n",
    "calcError(estFold, actualFold)"
   ]
  },
  {
   "cell_type": "code",
   "execution_count": 131,
   "metadata": {},
   "outputs": [
    {
     "data": {
      "text/html": [
       "1086.125"
      ],
      "text/latex": [
       "1086.125"
      ],
      "text/markdown": [
       "1086.125"
      ],
      "text/plain": [
       "[1] 1086.125"
      ]
     },
     "metadata": {},
     "output_type": "display_data"
    },
    {
     "data": {
      "text/html": [
       "8"
      ],
      "text/latex": [
       "8"
      ],
      "text/markdown": [
       "8"
      ],
      "text/plain": [
       "[1] 8"
      ]
     },
     "metadata": {},
     "output_type": "display_data"
    },
    {
     "data": {
      "text/html": [
       "136.328125"
      ],
      "text/latex": [
       "136.328125"
      ],
      "text/markdown": [
       "136.328125"
      ],
      "text/plain": [
       "[1] 136.3281"
      ]
     },
     "metadata": {},
     "output_type": "display_data"
    },
    {
     "data": {
      "image/png": "[encoded data removed]",
      "text/plain": [
       "plot without title"
      ]
     },
     "metadata": {
      "image/png": {
       "height": 420,
       "width": 420
      }
     },
     "output_type": "display_data"
    }
   ],
   "source": [
    "K = 20\n",
    "err = rep(0, K)\n",
    "\n",
    "for (j in 1:v) {\n",
    "  onlineFold = subset(onlineCVSummary_t2, \n",
    "                      posXY %in% permuteLocs[ , j])\n",
    "  offlineFold = subset(offlineSummary_t2,\n",
    "                       posXY %in% permuteLocs[ , -j])\n",
    "  actualFold = onlineFold[ , c(\"posX\", \"posY\")]\n",
    "  \n",
    "  for (k in 1:K) {\n",
    "    estFold = predXY(newSignals = onlineFold[ , 6:11],\n",
    "                     newAngles = onlineFold[ , 4], \n",
    "                     offlineFold, numAngles = 3, k = k)\n",
    "    err[k] = err[k] + calcError(estFold, actualFold)\n",
    "  }\n",
    "}\n",
    "\n",
    "\n",
    "plot(y = err, x = (1:K),  type = \"l\", lwd= 2,\n",
    "     ylim = c(800, 2100),\n",
    "     xlab = \"Number of Neighbors\",\n",
    "     ylab = \"Sum of Square Errors\")\n",
    "\n",
    "rmseMin = min(err)\n",
    "kMin = which(err == rmseMin)[1]\n",
    "rmseMin\n",
    "kMin\n",
    "\n",
    "segments(x0 = 0, x1 = kMin, y0 = rmseMin, col = gray(0.4), \n",
    "         lty = 2, lwd = 2)\n",
    "segments(x0 = kMin, x1 = kMin, y0 = 1100,  y1 = rmseMin, \n",
    "         col = grey(0.4), lty = 2, lwd = 2)\n",
    "\n",
    "text(x = kMin - 2, y = rmseMin + 40, \n",
    "     label = as.character(round(rmseMin)), col = grey(0.4))\n",
    "\n",
    "onlineFold = subset(onlineCVSummary_t2, \n",
    "                    posXY %in% permuteLocs[ , 1])\n",
    "\n",
    "offlineFold = subset(offlineSummary_t2,\n",
    "                     posXY %in% permuteLocs[ , -1])\n",
    "\n",
    "estFold = predXY(newSignals = onlineFold[ , 6:11], \n",
    "                 newAngles = onlineFold[ , 4], \n",
    "                 offlineFold, numAngles = 3, k = kMin)\n",
    "\n",
    "actualFold = onlineFold[ , c(\"posX\", \"posY\")]\n",
    "calcError(estFold, actualFold)"
   ]
  },
  {
   "cell_type": "code",
   "execution_count": 132,
   "metadata": {},
   "outputs": [
    {
     "data": {
      "text/html": [
       "1097.83333333333"
      ],
      "text/latex": [
       "1097.83333333333"
      ],
      "text/markdown": [
       "1097.83333333333"
      ],
      "text/plain": [
       "[1] 1097.833"
      ]
     },
     "metadata": {},
     "output_type": "display_data"
    },
    {
     "data": {
      "text/html": [
       "6"
      ],
      "text/latex": [
       "6"
      ],
      "text/markdown": [
       "6"
      ],
      "text/plain": [
       "[1] 6"
      ]
     },
     "metadata": {},
     "output_type": "display_data"
    },
    {
     "data": {
      "text/html": [
       "168.083333333333"
      ],
      "text/latex": [
       "168.083333333333"
      ],
      "text/markdown": [
       "168.083333333333"
      ],
      "text/plain": [
       "[1] 168.0833"
      ]
     },
     "metadata": {},
     "output_type": "display_data"
    },
    {
     "data": {
      "image/png": "[encoded data removed]",
      "text/plain": [
       "plot without title"
      ]
     },
     "metadata": {
      "image/png": {
       "height": 420,
       "width": 420
      }
     },
     "output_type": "display_data"
    }
   ],
   "source": [
    "K = 20\n",
    "err = rep(0, K)\n",
    "\n",
    "for (j in 1:v) {\n",
    "  onlineFold = subset(onlineCVSummary_t1, \n",
    "                      posXY %in% permuteLocs[ , j])\n",
    "  offlineFold = subset(offlineSummary_t1,\n",
    "                       posXY %in% permuteLocs[ , -j])\n",
    "  actualFold = onlineFold[ , c(\"posX\", \"posY\")]\n",
    "  \n",
    "  for (k in 1:K) {\n",
    "    estFold = predXY(newSignals = onlineFold[ , 6:11],\n",
    "                     newAngles = onlineFold[ , 4], \n",
    "                     offlineFold, numAngles = 3, k = k)\n",
    "    err[k] = err[k] + calcError(estFold, actualFold)\n",
    "  }\n",
    "}\n",
    "\n",
    "\n",
    "plot(y = err, x = (1:K),  type = \"l\", lwd= 2,\n",
    "     ylim = c(800, 2100),\n",
    "     xlab = \"Number of Neighbors\",\n",
    "     ylab = \"Sum of Square Errors\")\n",
    "\n",
    "rmseMin = min(err)\n",
    "kMin = which(err == rmseMin)[1]\n",
    "rmseMin\n",
    "kMin\n",
    "\n",
    "segments(x0 = 0, x1 = kMin, y0 = rmseMin, col = gray(0.4), \n",
    "         lty = 2, lwd = 2)\n",
    "segments(x0 = kMin, x1 = kMin, y0 = 1100,  y1 = rmseMin, \n",
    "         col = grey(0.4), lty = 2, lwd = 2)\n",
    "\n",
    "text(x = kMin - 2, y = rmseMin + 40, \n",
    "     label = as.character(round(rmseMin)), col = grey(0.4))\n",
    "\n",
    "onlineFold = subset(onlineCVSummary_t1, \n",
    "                    posXY %in% permuteLocs[ , 1])\n",
    "\n",
    "offlineFold = subset(offlineSummary_t1,\n",
    "                     posXY %in% permuteLocs[ , -1])\n",
    "\n",
    "estFold = predXY(newSignals = onlineFold[ , 6:11], \n",
    "                 newAngles = onlineFold[ , 4], \n",
    "                 offlineFold, numAngles = 3, k = kMin)\n",
    "\n",
    "actualFold = onlineFold[ , c(\"posX\", \"posY\")]\n",
    "calcError(estFold, actualFold)"
   ]
  },
  {
   "cell_type": "code",
   "execution_count": 133,
   "metadata": {},
   "outputs": [
    {
     "data": {
      "text/html": [
       "1239.89795918367"
      ],
      "text/latex": [
       "1239.89795918367"
      ],
      "text/markdown": [
       "1239.89795918367"
      ],
      "text/plain": [
       "[1] 1239.898"
      ]
     },
     "metadata": {},
     "output_type": "display_data"
    },
    {
     "data": {
      "text/html": [
       "7"
      ],
      "text/latex": [
       "7"
      ],
      "text/markdown": [
       "7"
      ],
      "text/plain": [
       "[1] 7"
      ]
     },
     "metadata": {},
     "output_type": "display_data"
    },
    {
     "data": {
      "text/html": [
       "220.448979591837"
      ],
      "text/latex": [
       "220.448979591837"
      ],
      "text/markdown": [
       "220.448979591837"
      ],
      "text/plain": [
       "[1] 220.449"
      ]
     },
     "metadata": {},
     "output_type": "display_data"
    },
    {
     "data": {
      "image/png": "[encoded data removed]",
      "text/plain": [
       "plot without title"
      ]
     },
     "metadata": {
      "image/png": {
       "height": 420,
       "width": 420
      }
     },
     "output_type": "display_data"
    }
   ],
   "source": [
    "K = 20\n",
    "err = rep(0, K)\n",
    "\n",
    "for (j in 1:v) {\n",
    "  onlineFold = subset(onlineCVSummary, \n",
    "                      posXY %in% permuteLocs[ , j])\n",
    "  offlineFold = subset(offlineSummary,\n",
    "                       posXY %in% permuteLocs[ , -j])\n",
    "  actualFold = onlineFold[ , c(\"posX\", \"posY\")]\n",
    "  \n",
    "  for (k in 1:K) {\n",
    "    estFold = predXY(newSignals = onlineFold[ , 6:11],\n",
    "                     newAngles = onlineFold[ , 4], \n",
    "                     offlineFold, numAngles = 3, k = k)\n",
    "    err[k] = err[k] + calcError(estFold, actualFold)\n",
    "  }\n",
    "}\n",
    "\n",
    "\n",
    "plot(y = err, x = (1:K),  type = \"l\", lwd= 2,\n",
    "     ylim = c(800, 2100),\n",
    "     xlab = \"Number of Neighbors\",\n",
    "     ylab = \"Sum of Square Errors\")\n",
    "\n",
    "rmseMin = min(err)\n",
    "kMin = which(err == rmseMin)[1]\n",
    "rmseMin\n",
    "kMin\n",
    "\n",
    "segments(x0 = 0, x1 = kMin, y0 = rmseMin, col = gray(0.4), \n",
    "         lty = 2, lwd = 2)\n",
    "segments(x0 = kMin, x1 = kMin, y0 = 1100,  y1 = rmseMin, \n",
    "         col = grey(0.4), lty = 2, lwd = 2)\n",
    "\n",
    "text(x = kMin - 2, y = rmseMin + 40, \n",
    "     label = as.character(round(rmseMin)), col = grey(0.4))\n",
    "\n",
    "onlineFold = subset(onlineCVSummary, \n",
    "                    posXY %in% permuteLocs[ , 1])\n",
    "\n",
    "offlineFold = subset(offlineSummary,\n",
    "                     posXY %in% permuteLocs[ , -1])\n",
    "\n",
    "estFold = predXY(newSignals = onlineFold[ , 6:11], \n",
    "                 newAngles = onlineFold[ , 4], \n",
    "                 offlineFold, numAngles = 3, k = kMin)\n",
    "\n",
    "actualFold = onlineFold[ , c(\"posX\", \"posY\")]\n",
    "calcError(estFold, actualFold)"
   ]
  },
  {
   "cell_type": "markdown",
   "metadata": {},
   "source": [
    "## KNN Weighted Test "
   ]
  },
  {
   "cell_type": "code",
   "execution_count": 98,
   "metadata": {},
   "outputs": [],
   "source": [
    "weightFormula = function(x){ 1/(x+0.000001)} #inverse of distance\n",
    "\n",
    "findNN_W = function(newSignal, trainSubset, weighted=FALSE) {\n",
    "  diffs = apply(trainSubset[ , 4:9], 1, function(x) x - newSignal)\n",
    "  dists = apply(diffs, 2, function(x) sqrt(sum(x^2)) )\n",
    "  closest = order(dists)\n",
    "  \n",
    "  ordered_dist = dists[closest]\n",
    "  if(weighted == TRUE){\n",
    "    weight = weightFormula(ordered_dist)\n",
    "  }\n",
    "  if(weighted == FALSE){\n",
    "    weight = rep(1, length(dists))\n",
    "  }\n",
    "  return(cbind(trainSubset[closest, 1:3], ordered_dist, weight))\n",
    "}\n",
    "                                         "
   ]
  },
  {
   "cell_type": "code",
   "execution_count": 99,
   "metadata": {},
   "outputs": [],
   "source": [
    "predXY_W = function(newSignals, newAngles, trainData, numAngles = 1, k = 3, weighted=FALSE){\n",
    "  closeXY = list(length = nrow(newSignals))\n",
    "  for (i in 1:nrow(newSignals)) {\n",
    "    trainSS = selectTrain(newAngles[i], trainData, m = numAngles)\n",
    "    closeXY[[i]] = findNN_W(\n",
    "      newSignal = as.numeric(newSignals[i, ]),\n",
    "      trainSubset = trainSS,\n",
    "      weighted = weighted\n",
    "    )\n",
    "  }\n",
    "  weighted_XY_cal = function(x, k){\n",
    "    weights = x[1:k, 5]\n",
    "    weighted_x = sum(x[1:k, 2] * weights) / sum(weights)\n",
    "    weighted_y = sum(x[1:k, 3] * weights) / sum(weights)\n",
    "    return(c(weighted_x, weighted_y))\n",
    "  }\n",
    "  \n",
    "  # estXY = lapply(closeXY, function(x) sapply(x[ , 2:3], function(x) mean(x[1:k])))\n",
    "  estXY = lapply(closeXY, weighted_XY_cal, k)\n",
    "  estXY = do.call(\"rbind\", estXY)\n",
    "  return(estXY)\n",
    "}"
   ]
  },
  {
   "cell_type": "code",
   "execution_count": 100,
   "metadata": {},
   "outputs": [],
   "source": [
    "calcError = \n",
    "function(estXY, actualXY) \n",
    "   sum( rowSums( (estXY - actualXY)^2) )"
   ]
  },
  {
   "cell_type": "code",
   "execution_count": 109,
   "metadata": {},
   "outputs": [
    {
     "name": "stderr",
     "output_type": "stream",
     "text": [
      "Warning message in matrix(permuteLocs, ncol = v, nrow = floor(length(permuteLocs)/v)):\n",
      "\"data length [166] is not a sub-multiple or multiple of the number of rows [15]\"\n"
     ]
    }
   ],
   "source": [
    "set.seed(42)\n",
    "permuteLocs = sample(unique(offline$posXY))\n",
    "permuteLocs = matrix(permuteLocs, ncol = v, nrow = floor(length(permuteLocs)/v))"
   ]
  },
  {
   "cell_type": "markdown",
   "metadata": {},
   "source": [
    "#### Test with determined neighbour k = 3"
   ]
  },
  {
   "cell_type": "code",
   "execution_count": 111,
   "metadata": {},
   "outputs": [
    {
     "data": {
      "text/html": [
       "244"
      ],
      "text/latex": [
       "244"
      ],
      "text/markdown": [
       "244"
      ],
      "text/plain": [
       "[1] 244"
      ]
     },
     "metadata": {},
     "output_type": "display_data"
    }
   ],
   "source": [
    "offline_t1 = offline[ offline$mac != \"00:0f:a3:39:dd:cd\", ]\n",
    "\n",
    "onlineCVSummary_t1 = reshapeSS(offline_t1, keepVars = keepVars, \n",
    "                            sampleAngle = TRUE)\n",
    "\n",
    "onlineFold = subset(onlineCVSummary_t1, \n",
    "                    posXY %in% permuteLocs[ , 1])\n",
    "\n",
    "offlineFold = subset(offlineSummary_t1,\n",
    "                     posXY %in% permuteLocs[ , -1])\n",
    "\n",
    "estFold = predXY_W(newSignals = onlineFold[ , 6:11], \n",
    "                 newAngles = onlineFold[ , 4], \n",
    "                 offlineFold, weighted=FALSE,numAngles = 3, k = 3)\n",
    "\n",
    "actualFold = onlineFold[ , c(\"posX\", \"posY\")]\n",
    "calcError(estFold, actualFold)"
   ]
  },
  {
   "cell_type": "code",
   "execution_count": 126,
   "metadata": {},
   "outputs": [
    {
     "data": {
      "text/html": [
       "177.220638613559"
      ],
      "text/latex": [
       "177.220638613559"
      ],
      "text/markdown": [
       "177.220638613559"
      ],
      "text/plain": [
       "[1] 177.2206"
      ]
     },
     "metadata": {},
     "output_type": "display_data"
    }
   ],
   "source": [
    "estFold = predXY_W(newSignals = onlineFold[ , 6:11], \n",
    "                 newAngles = onlineFold[ , 4], \n",
    "                 offlineFold, weighted=TRUE,numAngles = 3, k = 3)\n",
    "\n",
    "actualFold = onlineFold[ , c(\"posX\", \"posY\")]\n",
    "calcError(estFold, actualFold)"
   ]
  },
  {
   "cell_type": "markdown",
   "metadata": {},
   "source": [
    "### Test of 11 fold validation varying neighbour number k"
   ]
  },
  {
   "cell_type": "code",
   "execution_count": 127,
   "metadata": {},
   "outputs": [
    {
     "data": {
      "text/html": [
       "1074.40912455829"
      ],
      "text/latex": [
       "1074.40912455829"
      ],
      "text/markdown": [
       "1074.40912455829"
      ],
      "text/plain": [
       "[1] 1074.409"
      ]
     },
     "metadata": {},
     "output_type": "display_data"
    },
    {
     "data": {
      "text/html": [
       "6"
      ],
      "text/latex": [
       "6"
      ],
      "text/markdown": [
       "6"
      ],
      "text/plain": [
       "[1] 6"
      ]
     },
     "metadata": {},
     "output_type": "display_data"
    },
    {
     "data": {
      "text/html": [
       "168.083333333333"
      ],
      "text/latex": [
       "168.083333333333"
      ],
      "text/markdown": [
       "168.083333333333"
      ],
      "text/plain": [
       "[1] 168.0833"
      ]
     },
     "metadata": {},
     "output_type": "display_data"
    },
    {
     "data": {
      "image/png": "[encoded data removed]",
      "text/plain": [
       "plot without title"
      ]
     },
     "metadata": {
      "image/png": {
       "height": 420,
       "width": 420
      }
     },
     "output_type": "display_data"
    }
   ],
   "source": [
    "K = 20\n",
    "err = rep(0, K)\n",
    "\n",
    "for (j in 1:v) {\n",
    "  onlineFold = subset(onlineCVSummary_t1, \n",
    "                      posXY %in% permuteLocs[ , j])\n",
    "  offlineFold = subset(offlineSummary_t1,\n",
    "                       posXY %in% permuteLocs[ , -j])\n",
    "  actualFold = onlineFold[ , c(\"posX\", \"posY\")]\n",
    "  \n",
    "  for (k in 1:K) {\n",
    "    estFold = predXY_W(newSignals = onlineFold[ , 6:11],\n",
    "                     newAngles = onlineFold[ , 4], \n",
    "                     offlineFold, weighted=TRUE, numAngles = 3, k = k)\n",
    "    err[k] = err[k] + calcError(estFold, actualFold)\n",
    "  }\n",
    "}\n",
    "\n",
    "\n",
    "plot(y = err, x = (1:K),  type = \"l\", lwd= 2,\n",
    "     ylim = c(800, 2100),\n",
    "     xlab = \"Number of Neighbors\",\n",
    "     ylab = \"Sum of Square Errors\")\n",
    "\n",
    "rmseMin = min(err)\n",
    "kMin = which(err == rmseMin)[1]\n",
    "rmseMin\n",
    "kMin\n",
    "\n",
    "segments(x0 = 0, x1 = kMin, y0 = rmseMin, col = gray(0.4), \n",
    "         lty = 2, lwd = 2)\n",
    "segments(x0 = kMin, x1 = kMin, y0 = 1100,  y1 = rmseMin, \n",
    "         col = grey(0.4), lty = 2, lwd = 2)\n",
    "\n",
    "text(x = kMin - 2, y = rmseMin + 40, \n",
    "     label = as.character(round(rmseMin)), col = grey(0.4))\n",
    "\n",
    "onlineFold = subset(onlineCVSummary_t1, \n",
    "                    posXY %in% permuteLocs[ , 1])\n",
    "\n",
    "offlineFold = subset(offlineSummary_t1,\n",
    "                     posXY %in% permuteLocs[ , -1])\n",
    "\n",
    "estFold = predXY(newSignals = onlineFold[ , 6:11], \n",
    "                 newAngles = onlineFold[ , 4], \n",
    "                 offlineFold, numAngles = 3, k = kMin)\n",
    "\n",
    "actualFold = onlineFold[ , c(\"posX\", \"posY\")]\n",
    "calcError(estFold, actualFold)"
   ]
  }
 ],
 "metadata": {
  "kernelspec": {
   "display_name": "R",
   "language": "R",
   "name": "ir"
  },
  "language_info": {
   "codemirror_mode": "r",
   "file_extension": ".r",
   "mimetype": "text/x-r-source",
   "name": "R",
   "pygments_lexer": "r",
   "version": "3.6.1"
  }
 },
 "nbformat": 4,
 "nbformat_minor": 4
}
